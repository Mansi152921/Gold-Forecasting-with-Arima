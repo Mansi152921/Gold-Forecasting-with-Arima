{
  "cells": [
    {
      "cell_type": "markdown",
      "source": [
        "#**Mansi Chauhan**\n",
        "#**B K Birla College of Arts, Science & Commerce**"
      ],
      "metadata": {
        "id": "WEyChCK8XjXm"
      }
    },
    {
      "cell_type": "markdown",
      "source": [
        "#***Gold Forecasting with arima model***"
      ],
      "metadata": {
        "id": "4-MAz2A2YQIz"
      }
    },
    {
      "cell_type": "markdown",
      "metadata": {
        "papermill": {
          "duration": 0.05826,
          "end_time": "2021-03-30T18:36:47.316000",
          "exception": false,
          "start_time": "2021-03-30T18:36:47.257740",
          "status": "completed"
        },
        "tags": [],
        "id": "-CxqWPTwNuF5"
      },
      "source": [
        "***Importing Libraries***"
      ]
    },
    {
      "cell_type": "code",
      "execution_count": null,
      "metadata": {
        "_kg_hide-output": true,
        "execution": {
          "iopub.execute_input": "2021-03-30T18:36:47.434819Z",
          "iopub.status.busy": "2021-03-30T18:36:47.433940Z",
          "iopub.status.idle": "2021-03-30T18:37:20.067119Z",
          "shell.execute_reply": "2021-03-30T18:37:20.066404Z"
        },
        "papermill": {
          "duration": 32.694185,
          "end_time": "2021-03-30T18:37:20.067238",
          "exception": false,
          "start_time": "2021-03-30T18:36:47.373053",
          "status": "completed"
        },
        "tags": [],
        "id": "BxqFqRQeNuGB",
        "outputId": "4ceca0e4-2a13-4156-8b3d-84167f1dd8f3"
      },
      "outputs": [
        {
          "name": "stdout",
          "output_type": "stream",
          "text": [
            "Collecting pmdarima\r\n",
            "  Downloading pmdarima-1.8.0-cp37-cp37m-manylinux1_x86_64.whl (1.5 MB)\r\n",
            "\u001b[K     |████████████████████████████████| 1.5 MB 893 kB/s \r\n",
            "\u001b[?25hRequirement already satisfied: pandas>=0.19 in /opt/conda/lib/python3.7/site-packages (from pmdarima) (1.1.5)\r\n",
            "Requirement already satisfied: setuptools!=50.0.0,>=38.6.0 in /opt/conda/lib/python3.7/site-packages (from pmdarima) (46.1.3.post20200325)\r\n",
            "Requirement already satisfied: numpy>=1.17.3 in /opt/conda/lib/python3.7/site-packages (from pmdarima) (1.18.5)\r\n",
            "Requirement already satisfied: urllib3 in /opt/conda/lib/python3.7/site-packages (from pmdarima) (1.25.9)\r\n",
            "Requirement already satisfied: statsmodels!=0.12.0,>=0.11 in /opt/conda/lib/python3.7/site-packages (from pmdarima) (0.11.1)\r\n",
            "Requirement already satisfied: joblib>=0.11 in /opt/conda/lib/python3.7/site-packages (from pmdarima) (0.14.1)\r\n",
            "Requirement already satisfied: scikit-learn>=0.22 in /opt/conda/lib/python3.7/site-packages (from pmdarima) (0.23.2)\r\n",
            "Requirement already satisfied: scipy>=1.3.2 in /opt/conda/lib/python3.7/site-packages (from pmdarima) (1.4.1)\r\n",
            "Collecting Cython<0.29.18,>=0.29\r\n",
            "  Downloading Cython-0.29.17-cp37-cp37m-manylinux1_x86_64.whl (2.1 MB)\r\n",
            "\u001b[K     |████████████████████████████████| 2.1 MB 7.7 MB/s \r\n",
            "\u001b[?25hRequirement already satisfied: python-dateutil>=2.7.3 in /opt/conda/lib/python3.7/site-packages (from pandas>=0.19->pmdarima) (2.8.1)\r\n",
            "Requirement already satisfied: numpy>=1.17.3 in /opt/conda/lib/python3.7/site-packages (from pmdarima) (1.18.5)\r\n",
            "Requirement already satisfied: pytz>=2017.2 in /opt/conda/lib/python3.7/site-packages (from pandas>=0.19->pmdarima) (2019.3)\r\n",
            "Requirement already satisfied: six>=1.5 in /opt/conda/lib/python3.7/site-packages (from python-dateutil>=2.7.3->pandas>=0.19->pmdarima) (1.14.0)\r\n",
            "Requirement already satisfied: numpy>=1.17.3 in /opt/conda/lib/python3.7/site-packages (from pmdarima) (1.18.5)\r\n",
            "Requirement already satisfied: joblib>=0.11 in /opt/conda/lib/python3.7/site-packages (from pmdarima) (0.14.1)\r\n",
            "Requirement already satisfied: scipy>=1.3.2 in /opt/conda/lib/python3.7/site-packages (from pmdarima) (1.4.1)\r\n",
            "Requirement already satisfied: threadpoolctl>=2.0.0 in /opt/conda/lib/python3.7/site-packages (from scikit-learn>=0.22->pmdarima) (2.1.0)\r\n",
            "Requirement already satisfied: numpy>=1.17.3 in /opt/conda/lib/python3.7/site-packages (from pmdarima) (1.18.5)\r\n",
            "Requirement already satisfied: patsy>=0.5 in /opt/conda/lib/python3.7/site-packages (from statsmodels!=0.12.0,>=0.11->pmdarima) (0.5.1)\r\n",
            "Requirement already satisfied: numpy>=1.17.3 in /opt/conda/lib/python3.7/site-packages (from pmdarima) (1.18.5)\r\n",
            "Requirement already satisfied: pandas>=0.19 in /opt/conda/lib/python3.7/site-packages (from pmdarima) (1.1.5)\r\n",
            "Requirement already satisfied: scipy>=1.3.2 in /opt/conda/lib/python3.7/site-packages (from pmdarima) (1.4.1)\r\n",
            "Requirement already satisfied: numpy>=1.17.3 in /opt/conda/lib/python3.7/site-packages (from pmdarima) (1.18.5)\r\n",
            "Requirement already satisfied: six>=1.5 in /opt/conda/lib/python3.7/site-packages (from python-dateutil>=2.7.3->pandas>=0.19->pmdarima) (1.14.0)\r\n",
            "Installing collected packages: Cython, pmdarima\r\n",
            "  Attempting uninstall: Cython\r\n",
            "    Found existing installation: Cython 0.29.21\r\n",
            "    Uninstalling Cython-0.29.21:\r\n",
            "      Successfully uninstalled Cython-0.29.21\r\n",
            "Successfully installed Cython-0.29.17 pmdarima-1.8.0\r\n",
            "\u001b[33mWARNING: You are using pip version 20.3.1; however, version 21.0.1 is available.\r\n",
            "You should consider upgrading via the '/opt/conda/bin/python -m pip install --upgrade pip' command.\u001b[0m\r\n",
            "Note: you may need to restart the kernel to use updated packages.\n"
          ]
        }
      ],
      "source": [
        "#installing pdarima for our model\n",
        "pip install pmdarima"
      ]
    },
    {
      "cell_type": "code",
      "execution_count": null,
      "metadata": {
        "_kg_hide-input": false,
        "execution": {
          "iopub.execute_input": "2021-03-30T18:37:20.216003Z",
          "iopub.status.busy": "2021-03-30T18:37:20.214915Z",
          "iopub.status.idle": "2021-03-30T18:37:22.236602Z",
          "shell.execute_reply": "2021-03-30T18:37:22.235898Z"
        },
        "papermill": {
          "duration": 2.103674,
          "end_time": "2021-03-30T18:37:22.236713",
          "exception": false,
          "start_time": "2021-03-30T18:37:20.133039",
          "status": "completed"
        },
        "tags": [],
        "id": "fkTpv10_NuGF"
      },
      "outputs": [],
      "source": [
        "#importing all necessaary libraries\n",
        "from mpl_toolkits.mplot3d import Axes3D\n",
        "from sklearn.preprocessing import StandardScaler\n",
        "import matplotlib.pyplot as plt\n",
        "import numpy as np \n",
        "import os \n",
        "import pandas as pd \n",
        "import seaborn as sns\n",
        "import matplotlib.pyplot as plt\n",
        "%matplotlib inline\n",
        "from statsmodels.tsa.seasonal import seasonal_decompose\n",
        "import statsmodels.formula.api as smf\n",
        "from sklearn.linear_model import LinearRegression\n",
        "from sklearn.metrics import mean_squared_error\n",
        "import statsmodels.formula.api as smf\n",
        "from statsmodels.tsa.arima_model import ARIMA\n",
        "from pmdarima.arima import auto_arima\n",
        "import pmdarima as pm\n",
        "from sklearn.metrics import mean_squared_error, mean_absolute_error\n",
        "import math\n",
        "from statsmodels.tsa.arima_model import ARIMA\n",
        "from statsmodels.stats.outliers_influence import variance_inflation_factor"
      ]
    },
    {
      "cell_type": "markdown",
      "metadata": {
        "papermill": {
          "duration": 0.065396,
          "end_time": "2021-03-30T18:37:22.368363",
          "exception": false,
          "start_time": "2021-03-30T18:37:22.302967",
          "status": "completed"
        },
        "tags": [],
        "id": "Dp2c09KtNuGH"
      },
      "source": [
        "***Reading Data***"
      ]
    },
    {
      "cell_type": "code",
      "execution_count": null,
      "metadata": {
        "_kg_hide-input": false,
        "execution": {
          "iopub.execute_input": "2021-03-30T18:37:22.517356Z",
          "iopub.status.busy": "2021-03-30T18:37:22.516591Z",
          "iopub.status.idle": "2021-03-30T18:37:22.531650Z",
          "shell.execute_reply": "2021-03-30T18:37:22.532179Z"
        },
        "papermill": {
          "duration": 0.096358,
          "end_time": "2021-03-30T18:37:22.532338",
          "exception": false,
          "start_time": "2021-03-30T18:37:22.435980",
          "status": "completed"
        },
        "tags": [],
        "id": "ROrc7jZ6NuGI"
      },
      "outputs": [],
      "source": [
        "golds=pd.read_csv('/content/GoldUP.csv')\n"
      ]
    },
    {
      "cell_type": "code",
      "execution_count": null,
      "metadata": {
        "_kg_hide-input": true,
        "execution": {
          "iopub.execute_input": "2021-03-30T18:37:22.686825Z",
          "iopub.status.busy": "2021-03-30T18:37:22.686117Z",
          "iopub.status.idle": "2021-03-30T18:37:22.697754Z",
          "shell.execute_reply": "2021-03-30T18:37:22.698246Z"
        },
        "papermill": {
          "duration": 0.099558,
          "end_time": "2021-03-30T18:37:22.698395",
          "exception": false,
          "start_time": "2021-03-30T18:37:22.598837",
          "status": "completed"
        },
        "tags": [],
        "id": "ACkia3QUNuGJ",
        "outputId": "d341c2a1-ba82-43a3-8fc0-86a05b85a3ad"
      },
      "outputs": [
        {
          "data": {
            "text/html": [
              "<div>\n",
              "<style scoped>\n",
              "    .dataframe tbody tr th:only-of-type {\n",
              "        vertical-align: middle;\n",
              "    }\n",
              "\n",
              "    .dataframe tbody tr th {\n",
              "        vertical-align: top;\n",
              "    }\n",
              "\n",
              "    .dataframe thead th {\n",
              "        text-align: right;\n",
              "    }\n",
              "</style>\n",
              "<table border=\"1\" class=\"dataframe\">\n",
              "  <thead>\n",
              "    <tr style=\"text-align: right;\">\n",
              "      <th></th>\n",
              "      <th>Date</th>\n",
              "      <th>Gold_Price</th>\n",
              "      <th>Crude_Oil</th>\n",
              "      <th>Interest_Rate</th>\n",
              "      <th>USD_INR</th>\n",
              "      <th>Sensex</th>\n",
              "      <th>CPI</th>\n",
              "      <th>USD_Index</th>\n",
              "    </tr>\n",
              "  </thead>\n",
              "  <tbody>\n",
              "    <tr>\n",
              "      <th>0</th>\n",
              "      <td>01-10-2000</td>\n",
              "      <td>4538</td>\n",
              "      <td>1455.51</td>\n",
              "      <td>8.00</td>\n",
              "      <td>46.318297</td>\n",
              "      <td>3711.02</td>\n",
              "      <td>37.23</td>\n",
              "      <td>116.65</td>\n",
              "    </tr>\n",
              "    <tr>\n",
              "      <th>1</th>\n",
              "      <td>01-11-2000</td>\n",
              "      <td>4483</td>\n",
              "      <td>1512.47</td>\n",
              "      <td>8.00</td>\n",
              "      <td>46.783613</td>\n",
              "      <td>3997.99</td>\n",
              "      <td>37.31</td>\n",
              "      <td>115.24</td>\n",
              "    </tr>\n",
              "    <tr>\n",
              "      <th>2</th>\n",
              "      <td>01-12-2000</td>\n",
              "      <td>4541</td>\n",
              "      <td>1178.11</td>\n",
              "      <td>8.00</td>\n",
              "      <td>46.745856</td>\n",
              "      <td>3972.12</td>\n",
              "      <td>36.98</td>\n",
              "      <td>109.56</td>\n",
              "    </tr>\n",
              "    <tr>\n",
              "      <th>3</th>\n",
              "      <td>01-01-2001</td>\n",
              "      <td>4466</td>\n",
              "      <td>1208.18</td>\n",
              "      <td>8.00</td>\n",
              "      <td>46.536033</td>\n",
              "      <td>4326.72</td>\n",
              "      <td>36.90</td>\n",
              "      <td>110.52</td>\n",
              "    </tr>\n",
              "    <tr>\n",
              "      <th>4</th>\n",
              "      <td>01-02-2001</td>\n",
              "      <td>4370</td>\n",
              "      <td>1267.18</td>\n",
              "      <td>7.50</td>\n",
              "      <td>46.514595</td>\n",
              "      <td>4247.04</td>\n",
              "      <td>36.73</td>\n",
              "      <td>112.01</td>\n",
              "    </tr>\n",
              "    <tr>\n",
              "      <th>...</th>\n",
              "      <td>...</td>\n",
              "      <td>...</td>\n",
              "      <td>...</td>\n",
              "      <td>...</td>\n",
              "      <td>...</td>\n",
              "      <td>...</td>\n",
              "      <td>...</td>\n",
              "      <td>...</td>\n",
              "    </tr>\n",
              "    <tr>\n",
              "      <th>234</th>\n",
              "      <td>01-04-2020</td>\n",
              "      <td>45504</td>\n",
              "      <td>1603.02</td>\n",
              "      <td>4.65</td>\n",
              "      <td>76.222334</td>\n",
              "      <td>33717.62</td>\n",
              "      <td>125.85</td>\n",
              "      <td>99.57</td>\n",
              "    </tr>\n",
              "    <tr>\n",
              "      <th>235</th>\n",
              "      <td>01-05-2020</td>\n",
              "      <td>46343</td>\n",
              "      <td>2298.55</td>\n",
              "      <td>4.25</td>\n",
              "      <td>75.666063</td>\n",
              "      <td>32424.10</td>\n",
              "      <td>126.24</td>\n",
              "      <td>98.34</td>\n",
              "    </tr>\n",
              "    <tr>\n",
              "      <th>236</th>\n",
              "      <td>01-06-2020</td>\n",
              "      <td>47315</td>\n",
              "      <td>2987.46</td>\n",
              "      <td>4.25</td>\n",
              "      <td>75.763427</td>\n",
              "      <td>34915.80</td>\n",
              "      <td>127.00</td>\n",
              "      <td>97.39</td>\n",
              "    </tr>\n",
              "    <tr>\n",
              "      <th>237</th>\n",
              "      <td>01-07-2020</td>\n",
              "      <td>49878</td>\n",
              "      <td>3156.01</td>\n",
              "      <td>4.25</td>\n",
              "      <td>74.908993</td>\n",
              "      <td>37606.89</td>\n",
              "      <td>128.53</td>\n",
              "      <td>93.35</td>\n",
              "    </tr>\n",
              "    <tr>\n",
              "      <th>238</th>\n",
              "      <td>01-08-2020</td>\n",
              "      <td>52917</td>\n",
              "      <td>3243.75</td>\n",
              "      <td>4.25</td>\n",
              "      <td>74.573820</td>\n",
              "      <td>38628.29</td>\n",
              "      <td>129.30</td>\n",
              "      <td>92.14</td>\n",
              "    </tr>\n",
              "  </tbody>\n",
              "</table>\n",
              "<p>239 rows × 8 columns</p>\n",
              "</div>"
            ],
            "text/plain": [
              "           Date  Gold_Price  Crude_Oil  Interest_Rate    USD_INR    Sensex  \\\n",
              "0    01-10-2000        4538    1455.51           8.00  46.318297   3711.02   \n",
              "1    01-11-2000        4483    1512.47           8.00  46.783613   3997.99   \n",
              "2    01-12-2000        4541    1178.11           8.00  46.745856   3972.12   \n",
              "3    01-01-2001        4466    1208.18           8.00  46.536033   4326.72   \n",
              "4    01-02-2001        4370    1267.18           7.50  46.514595   4247.04   \n",
              "..          ...         ...        ...            ...        ...       ...   \n",
              "234  01-04-2020       45504    1603.02           4.65  76.222334  33717.62   \n",
              "235  01-05-2020       46343    2298.55           4.25  75.666063  32424.10   \n",
              "236  01-06-2020       47315    2987.46           4.25  75.763427  34915.80   \n",
              "237  01-07-2020       49878    3156.01           4.25  74.908993  37606.89   \n",
              "238  01-08-2020       52917    3243.75           4.25  74.573820  38628.29   \n",
              "\n",
              "        CPI  USD_Index  \n",
              "0     37.23     116.65  \n",
              "1     37.31     115.24  \n",
              "2     36.98     109.56  \n",
              "3     36.90     110.52  \n",
              "4     36.73     112.01  \n",
              "..      ...        ...  \n",
              "234  125.85      99.57  \n",
              "235  126.24      98.34  \n",
              "236  127.00      97.39  \n",
              "237  128.53      93.35  \n",
              "238  129.30      92.14  \n",
              "\n",
              "[239 rows x 8 columns]"
            ]
          },
          "execution_count": 4,
          "metadata": {},
          "output_type": "execute_result"
        }
      ],
      "source": [
        "golds"
      ]
    },
    {
      "cell_type": "markdown",
      "metadata": {
        "papermill": {
          "duration": 0.06648,
          "end_time": "2021-03-30T18:37:22.832290",
          "exception": false,
          "start_time": "2021-03-30T18:37:22.765810",
          "status": "completed"
        },
        "tags": [],
        "id": "xj8QQSJHNuGK"
      },
      "source": [
        "***Gold_Price Analysis***"
      ]
    },
    {
      "cell_type": "code",
      "execution_count": null,
      "metadata": {
        "_kg_hide-input": true,
        "execution": {
          "iopub.execute_input": "2021-03-30T18:37:22.970301Z",
          "iopub.status.busy": "2021-03-30T18:37:22.969621Z",
          "iopub.status.idle": "2021-03-30T18:37:23.250698Z",
          "shell.execute_reply": "2021-03-30T18:37:23.250004Z"
        },
        "papermill": {
          "duration": 0.352013,
          "end_time": "2021-03-30T18:37:23.250822",
          "exception": false,
          "start_time": "2021-03-30T18:37:22.898809",
          "status": "completed"
        },
        "tags": [],
        "id": "dXv7s763NuGM",
        "outputId": "80b9365e-1f80-4c6c-b6d3-f76f7deb17e9"
      },
      "outputs": [
        {
          "data": {
            "text/plain": [
              "(239, 8)"
            ]
          },
          "execution_count": 5,
          "metadata": {},
          "output_type": "execute_result"
        },
        {
          "data": {
            "image/png": "[encoded data removed]",
            "text/plain": [
              "<Figure size 1152x576 with 1 Axes>"
            ]
          },
          "metadata": {
            "needs_background": "light"
          },
          "output_type": "display_data"
        }
      ],
      "source": [
        "series = pd.DataFrame(data=golds['Gold_Price'], columns = ['Gold_Price'] ).dropna()\n",
        "series.plot(figsize=(16,8));\n",
        "plt.ylabel('Time Series')\n",
        "plt.xlabel('Series')\n",
        "golds.shape\n"
      ]
    },
    {
      "cell_type": "code",
      "execution_count": null,
      "metadata": {
        "execution": {
          "iopub.execute_input": "2021-03-30T18:37:23.391509Z",
          "iopub.status.busy": "2021-03-30T18:37:23.390774Z",
          "iopub.status.idle": "2021-03-30T18:37:23.397807Z",
          "shell.execute_reply": "2021-03-30T18:37:23.398291Z"
        },
        "papermill": {
          "duration": 0.078757,
          "end_time": "2021-03-30T18:37:23.398445",
          "exception": false,
          "start_time": "2021-03-30T18:37:23.319688",
          "status": "completed"
        },
        "tags": [],
        "id": "LFVNHjBkNuGO",
        "outputId": "5b1e21b0-21b2-431d-b3da-faea480ec424"
      },
      "outputs": [
        {
          "data": {
            "text/plain": [
              "(239, 8)"
            ]
          },
          "execution_count": 6,
          "metadata": {},
          "output_type": "execute_result"
        }
      ],
      "source": [
        "golds.shape"
      ]
    },
    {
      "cell_type": "code",
      "execution_count": null,
      "metadata": {
        "execution": {
          "iopub.execute_input": "2021-03-30T18:37:23.584865Z",
          "iopub.status.busy": "2021-03-30T18:37:23.583791Z",
          "iopub.status.idle": "2021-03-30T18:37:23.588482Z",
          "shell.execute_reply": "2021-03-30T18:37:23.587791Z"
        },
        "papermill": {
          "duration": 0.098365,
          "end_time": "2021-03-30T18:37:23.588608",
          "exception": false,
          "start_time": "2021-03-30T18:37:23.490243",
          "status": "completed"
        },
        "tags": [],
        "id": "iU5vSkcXNuGP",
        "outputId": "dbc7053e-8484-47fb-c4da-5a113d596428"
      },
      "outputs": [
        {
          "name": "stdout",
          "output_type": "stream",
          "text": [
            "<class 'pandas.core.frame.DataFrame'>\n",
            "RangeIndex: 239 entries, 0 to 238\n",
            "Data columns (total 8 columns):\n",
            " #   Column         Non-Null Count  Dtype  \n",
            "---  ------         --------------  -----  \n",
            " 0   Date           239 non-null    object \n",
            " 1   Gold_Price     239 non-null    int64  \n",
            " 2   Crude_Oil      239 non-null    float64\n",
            " 3   Interest_Rate  239 non-null    float64\n",
            " 4   USD_INR        239 non-null    float64\n",
            " 5   Sensex         239 non-null    float64\n",
            " 6   CPI            239 non-null    float64\n",
            " 7   USD_Index      239 non-null    float64\n",
            "dtypes: float64(6), int64(1), object(1)\n",
            "memory usage: 15.1+ KB\n"
          ]
        }
      ],
      "source": [
        "golds.info()"
      ]
    },
    {
      "cell_type": "code",
      "execution_count": null,
      "metadata": {
        "execution": {
          "iopub.execute_input": "2021-03-30T18:37:23.737023Z",
          "iopub.status.busy": "2021-03-30T18:37:23.735933Z",
          "iopub.status.idle": "2021-03-30T18:37:23.766060Z",
          "shell.execute_reply": "2021-03-30T18:37:23.765354Z"
        },
        "papermill": {
          "duration": 0.107583,
          "end_time": "2021-03-30T18:37:23.766220",
          "exception": false,
          "start_time": "2021-03-30T18:37:23.658637",
          "status": "completed"
        },
        "tags": [],
        "id": "E9CCFRbUNuGQ",
        "outputId": "a81053d2-b913-45fa-cc13-7ad50c9aaeab"
      },
      "outputs": [
        {
          "data": {
            "text/html": [
              "<div>\n",
              "<style scoped>\n",
              "    .dataframe tbody tr th:only-of-type {\n",
              "        vertical-align: middle;\n",
              "    }\n",
              "\n",
              "    .dataframe tbody tr th {\n",
              "        vertical-align: top;\n",
              "    }\n",
              "\n",
              "    .dataframe thead th {\n",
              "        text-align: right;\n",
              "    }\n",
              "</style>\n",
              "<table border=\"1\" class=\"dataframe\">\n",
              "  <thead>\n",
              "    <tr style=\"text-align: right;\">\n",
              "      <th></th>\n",
              "      <th>Gold_Price</th>\n",
              "      <th>Crude_Oil</th>\n",
              "      <th>Interest_Rate</th>\n",
              "      <th>USD_INR</th>\n",
              "      <th>Sensex</th>\n",
              "      <th>CPI</th>\n",
              "      <th>USD_Index</th>\n",
              "    </tr>\n",
              "  </thead>\n",
              "  <tbody>\n",
              "    <tr>\n",
              "      <th>count</th>\n",
              "      <td>239.000000</td>\n",
              "      <td>239.000000</td>\n",
              "      <td>239.000000</td>\n",
              "      <td>239.000000</td>\n",
              "      <td>239.000000</td>\n",
              "      <td>239.000000</td>\n",
              "      <td>239.000000</td>\n",
              "    </tr>\n",
              "    <tr>\n",
              "      <th>mean</th>\n",
              "      <td>19299.062762</td>\n",
              "      <td>3397.686318</td>\n",
              "      <td>6.715900</td>\n",
              "      <td>53.804819</td>\n",
              "      <td>18172.443891</td>\n",
              "      <td>73.372050</td>\n",
              "      <td>90.182510</td>\n",
              "    </tr>\n",
              "    <tr>\n",
              "      <th>std</th>\n",
              "      <td>11668.913490</td>\n",
              "      <td>1551.627401</td>\n",
              "      <td>1.188309</td>\n",
              "      <td>10.311144</td>\n",
              "      <td>11032.206600</td>\n",
              "      <td>29.106141</td>\n",
              "      <td>11.312607</td>\n",
              "    </tr>\n",
              "    <tr>\n",
              "      <th>min</th>\n",
              "      <td>4267.000000</td>\n",
              "      <td>887.420000</td>\n",
              "      <td>4.250000</td>\n",
              "      <td>39.366685</td>\n",
              "      <td>2811.600000</td>\n",
              "      <td>36.730000</td>\n",
              "      <td>71.800000</td>\n",
              "    </tr>\n",
              "    <tr>\n",
              "      <th>25%</th>\n",
              "      <td>6712.500000</td>\n",
              "      <td>2180.695000</td>\n",
              "      <td>6.000000</td>\n",
              "      <td>45.467395</td>\n",
              "      <td>8263.400000</td>\n",
              "      <td>45.190000</td>\n",
              "      <td>81.110000</td>\n",
              "    </tr>\n",
              "    <tr>\n",
              "      <th>50%</th>\n",
              "      <td>19056.000000</td>\n",
              "      <td>3303.550000</td>\n",
              "      <td>6.000000</td>\n",
              "      <td>48.664774</td>\n",
              "      <td>17464.810000</td>\n",
              "      <td>68.470000</td>\n",
              "      <td>88.940000</td>\n",
              "    </tr>\n",
              "    <tr>\n",
              "      <th>75%</th>\n",
              "      <td>29364.000000</td>\n",
              "      <td>4492.930000</td>\n",
              "      <td>7.000000</td>\n",
              "      <td>63.861030</td>\n",
              "      <td>26662.395000</td>\n",
              "      <td>101.370000</td>\n",
              "      <td>97.160000</td>\n",
              "    </tr>\n",
              "    <tr>\n",
              "      <th>max</th>\n",
              "      <td>52917.000000</td>\n",
              "      <td>6926.830000</td>\n",
              "      <td>10.250000</td>\n",
              "      <td>76.222334</td>\n",
              "      <td>41253.740000</td>\n",
              "      <td>129.300000</td>\n",
              "      <td>120.240000</td>\n",
              "    </tr>\n",
              "  </tbody>\n",
              "</table>\n",
              "</div>"
            ],
            "text/plain": [
              "         Gold_Price    Crude_Oil  Interest_Rate     USD_INR        Sensex  \\\n",
              "count    239.000000   239.000000     239.000000  239.000000    239.000000   \n",
              "mean   19299.062762  3397.686318       6.715900   53.804819  18172.443891   \n",
              "std    11668.913490  1551.627401       1.188309   10.311144  11032.206600   \n",
              "min     4267.000000   887.420000       4.250000   39.366685   2811.600000   \n",
              "25%     6712.500000  2180.695000       6.000000   45.467395   8263.400000   \n",
              "50%    19056.000000  3303.550000       6.000000   48.664774  17464.810000   \n",
              "75%    29364.000000  4492.930000       7.000000   63.861030  26662.395000   \n",
              "max    52917.000000  6926.830000      10.250000   76.222334  41253.740000   \n",
              "\n",
              "              CPI   USD_Index  \n",
              "count  239.000000  239.000000  \n",
              "mean    73.372050   90.182510  \n",
              "std     29.106141   11.312607  \n",
              "min     36.730000   71.800000  \n",
              "25%     45.190000   81.110000  \n",
              "50%     68.470000   88.940000  \n",
              "75%    101.370000   97.160000  \n",
              "max    129.300000  120.240000  "
            ]
          },
          "execution_count": 8,
          "metadata": {},
          "output_type": "execute_result"
        }
      ],
      "source": [
        "golds.describe()"
      ]
    },
    {
      "cell_type": "markdown",
      "metadata": {
        "papermill": {
          "duration": 0.071467,
          "end_time": "2021-03-30T18:37:23.908831",
          "exception": false,
          "start_time": "2021-03-30T18:37:23.837364",
          "status": "completed"
        },
        "tags": [],
        "id": "qy1dkp_6NuGR"
      },
      "source": [
        "***Skewness & Kurtosis of Gold Price***"
      ]
    },
    {
      "cell_type": "code",
      "execution_count": null,
      "metadata": {
        "execution": {
          "iopub.execute_input": "2021-03-30T18:37:24.062891Z",
          "iopub.status.busy": "2021-03-30T18:37:24.057939Z",
          "iopub.status.idle": "2021-03-30T18:37:24.230692Z",
          "shell.execute_reply": "2021-03-30T18:37:24.230161Z"
        },
        "papermill": {
          "duration": 0.250108,
          "end_time": "2021-03-30T18:37:24.230807",
          "exception": false,
          "start_time": "2021-03-30T18:37:23.980699",
          "status": "completed"
        },
        "tags": [],
        "id": "NRIfuDsCNuGS",
        "outputId": "80ca1724-e293-41fc-e86f-00bd78275992"
      },
      "outputs": [
        {
          "name": "stdout",
          "output_type": "stream",
          "text": [
            "Skewness: %f 0.2488536311924413\n",
            "Kurtosis: -0.995847\n"
          ]
        },
        {
          "data": {
            "image/png": "[encoded data removed]",
            "text/plain": [
              "<Figure size 432x288 with 1 Axes>"
            ]
          },
          "metadata": {
            "needs_background": "light"
          },
          "output_type": "display_data"
        }
      ],
      "source": [
        "sns.distplot(golds['Gold_Price'], color = 'blue')\n",
        "print('Skewness: %f', golds['Gold_Price'].skew())\n",
        "print(\"Kurtosis: %f\" % golds['Gold_Price'].kurt())"
      ]
    },
    {
      "cell_type": "markdown",
      "metadata": {
        "papermill": {
          "duration": 0.071612,
          "end_time": "2021-03-30T18:37:24.374614",
          "exception": false,
          "start_time": "2021-03-30T18:37:24.303002",
          "status": "completed"
        },
        "tags": [],
        "id": "To1YhhcCNuGT"
      },
      "source": [
        "***Additive Decomposition***"
      ]
    },
    {
      "cell_type": "code",
      "execution_count": null,
      "metadata": {
        "execution": {
          "iopub.execute_input": "2021-03-30T18:37:24.525125Z",
          "iopub.status.busy": "2021-03-30T18:37:24.524038Z",
          "iopub.status.idle": "2021-03-30T18:37:25.063836Z",
          "shell.execute_reply": "2021-03-30T18:37:25.064363Z"
        },
        "papermill": {
          "duration": 0.618328,
          "end_time": "2021-03-30T18:37:25.064506",
          "exception": false,
          "start_time": "2021-03-30T18:37:24.446178",
          "status": "completed"
        },
        "tags": [],
        "id": "yIE6nXqtNuGT",
        "outputId": "ed1dda86-2e8d-4ccb-eb8a-936fe6af245c"
      },
      "outputs": [
        {
          "data": {
            "image/png": "[encoded data removed]",
            "text/plain": [
              "<Figure size 432x288 with 4 Axes>"
            ]
          },
          "metadata": {
            "needs_background": "light"
          },
          "output_type": "display_data"
        }
      ],
      "source": [
        "result = seasonal_decompose(series.values, model = 'additive', period = 30)\n",
        "result.plot();\n",
        "plt.show()"
      ]
    },
    {
      "cell_type": "code",
      "execution_count": null,
      "metadata": {
        "execution": {
          "iopub.execute_input": "2021-03-30T18:37:25.220178Z",
          "iopub.status.busy": "2021-03-30T18:37:25.219152Z",
          "iopub.status.idle": "2021-03-30T18:37:25.728427Z",
          "shell.execute_reply": "2021-03-30T18:37:25.727840Z"
        },
        "papermill": {
          "duration": 0.589607,
          "end_time": "2021-03-30T18:37:25.728543",
          "exception": false,
          "start_time": "2021-03-30T18:37:25.138936",
          "status": "completed"
        },
        "tags": [],
        "id": "7QGV7c-tNuGU",
        "outputId": "480b5744-faf0-4a76-a967-3b9e01145fa0"
      },
      "outputs": [
        {
          "data": {
            "image/png": "[encoded data removed]",
            "text/plain": [
              "<Figure size 432x288 with 4 Axes>"
            ]
          },
          "metadata": {
            "needs_background": "light"
          },
          "output_type": "display_data"
        }
      ],
      "source": [
        "result2 = seasonal_decompose(series.values, model = 'multiplicative', period = 30)\n",
        "result2.plot();\n",
        "plt.show()"
      ]
    },
    {
      "cell_type": "markdown",
      "metadata": {
        "papermill": {
          "duration": 0.074348,
          "end_time": "2021-03-30T18:37:25.877570",
          "exception": false,
          "start_time": "2021-03-30T18:37:25.803222",
          "status": "completed"
        },
        "tags": [],
        "id": "WNuYVD3mNuGV"
      },
      "source": [
        "***Auto Correlation***"
      ]
    },
    {
      "cell_type": "code",
      "execution_count": null,
      "metadata": {
        "execution": {
          "iopub.execute_input": "2021-03-30T18:37:26.038269Z",
          "iopub.status.busy": "2021-03-30T18:37:26.037141Z",
          "iopub.status.idle": "2021-03-30T18:37:26.208049Z",
          "shell.execute_reply": "2021-03-30T18:37:26.208559Z"
        },
        "papermill": {
          "duration": 0.255527,
          "end_time": "2021-03-30T18:37:26.208726",
          "exception": false,
          "start_time": "2021-03-30T18:37:25.953199",
          "status": "completed"
        },
        "tags": [],
        "id": "vEfq-6AmNuGV",
        "outputId": "c13d6473-d280-4cdc-d4a2-dfec4e01721a"
      },
      "outputs": [
        {
          "data": {
            "text/plain": [
              "<matplotlib.axes._subplots.AxesSubplot at 0x7ff5eff9ab50>"
            ]
          },
          "execution_count": 12,
          "metadata": {},
          "output_type": "execute_result"
        },
        {
          "data": {
            "image/png": "[encoded data removed]",
            "text/plain": [
              "<Figure size 432x288 with 1 Axes>"
            ]
          },
          "metadata": {
            "needs_background": "light"
          },
          "output_type": "display_data"
        }
      ],
      "source": [
        "pd.plotting.autocorrelation_plot(series)"
      ]
    },
    {
      "cell_type": "markdown",
      "metadata": {
        "papermill": {
          "duration": 0.075596,
          "end_time": "2021-03-30T18:37:26.361236",
          "exception": false,
          "start_time": "2021-03-30T18:37:26.285640",
          "status": "completed"
        },
        "tags": [],
        "id": "p1pf6mUsNuGW"
      },
      "source": [
        "***Defining Dependent & Independent Variables***"
      ]
    },
    {
      "cell_type": "code",
      "execution_count": null,
      "metadata": {
        "execution": {
          "iopub.execute_input": "2021-03-30T18:37:26.515880Z",
          "iopub.status.busy": "2021-03-30T18:37:26.515176Z",
          "iopub.status.idle": "2021-03-30T18:37:26.522164Z",
          "shell.execute_reply": "2021-03-30T18:37:26.521468Z"
        },
        "papermill": {
          "duration": 0.085395,
          "end_time": "2021-03-30T18:37:26.522281",
          "exception": false,
          "start_time": "2021-03-30T18:37:26.436886",
          "status": "completed"
        },
        "tags": [],
        "id": "CtjPE708NuGX"
      },
      "outputs": [],
      "source": [
        "features=[\"Crude_Oil\",\"Interest_Rate\",\"USD_INR\",\"Sensex\",\"CPI\",\"USD_Index\"]\n",
        "x = golds[features]\n",
        "y = golds.Gold_Price"
      ]
    },
    {
      "cell_type": "code",
      "execution_count": null,
      "metadata": {
        "execution": {
          "iopub.execute_input": "2021-03-30T18:37:26.691884Z",
          "iopub.status.busy": "2021-03-30T18:37:26.691147Z",
          "iopub.status.idle": "2021-03-30T18:37:26.695644Z",
          "shell.execute_reply": "2021-03-30T18:37:26.696183Z"
        },
        "papermill": {
          "duration": 0.09644,
          "end_time": "2021-03-30T18:37:26.696361",
          "exception": false,
          "start_time": "2021-03-30T18:37:26.599921",
          "status": "completed"
        },
        "tags": [],
        "id": "hQtwsXAKNuGX",
        "outputId": "d5040354-5ff9-4af6-9902-0690d31ca1f7"
      },
      "outputs": [
        {
          "data": {
            "text/html": [
              "<div>\n",
              "<style scoped>\n",
              "    .dataframe tbody tr th:only-of-type {\n",
              "        vertical-align: middle;\n",
              "    }\n",
              "\n",
              "    .dataframe tbody tr th {\n",
              "        vertical-align: top;\n",
              "    }\n",
              "\n",
              "    .dataframe thead th {\n",
              "        text-align: right;\n",
              "    }\n",
              "</style>\n",
              "<table border=\"1\" class=\"dataframe\">\n",
              "  <thead>\n",
              "    <tr style=\"text-align: right;\">\n",
              "      <th></th>\n",
              "      <th>Crude_Oil</th>\n",
              "      <th>Interest_Rate</th>\n",
              "      <th>USD_INR</th>\n",
              "      <th>Sensex</th>\n",
              "      <th>CPI</th>\n",
              "      <th>USD_Index</th>\n",
              "    </tr>\n",
              "  </thead>\n",
              "  <tbody>\n",
              "    <tr>\n",
              "      <th>0</th>\n",
              "      <td>1455.51</td>\n",
              "      <td>8.0</td>\n",
              "      <td>46.318297</td>\n",
              "      <td>3711.02</td>\n",
              "      <td>37.23</td>\n",
              "      <td>116.65</td>\n",
              "    </tr>\n",
              "    <tr>\n",
              "      <th>1</th>\n",
              "      <td>1512.47</td>\n",
              "      <td>8.0</td>\n",
              "      <td>46.783613</td>\n",
              "      <td>3997.99</td>\n",
              "      <td>37.31</td>\n",
              "      <td>115.24</td>\n",
              "    </tr>\n",
              "    <tr>\n",
              "      <th>2</th>\n",
              "      <td>1178.11</td>\n",
              "      <td>8.0</td>\n",
              "      <td>46.745856</td>\n",
              "      <td>3972.12</td>\n",
              "      <td>36.98</td>\n",
              "      <td>109.56</td>\n",
              "    </tr>\n",
              "    <tr>\n",
              "      <th>3</th>\n",
              "      <td>1208.18</td>\n",
              "      <td>8.0</td>\n",
              "      <td>46.536033</td>\n",
              "      <td>4326.72</td>\n",
              "      <td>36.90</td>\n",
              "      <td>110.52</td>\n",
              "    </tr>\n",
              "    <tr>\n",
              "      <th>4</th>\n",
              "      <td>1267.18</td>\n",
              "      <td>7.5</td>\n",
              "      <td>46.514595</td>\n",
              "      <td>4247.04</td>\n",
              "      <td>36.73</td>\n",
              "      <td>112.01</td>\n",
              "    </tr>\n",
              "  </tbody>\n",
              "</table>\n",
              "</div>"
            ],
            "text/plain": [
              "   Crude_Oil  Interest_Rate    USD_INR   Sensex    CPI  USD_Index\n",
              "0    1455.51            8.0  46.318297  3711.02  37.23     116.65\n",
              "1    1512.47            8.0  46.783613  3997.99  37.31     115.24\n",
              "2    1178.11            8.0  46.745856  3972.12  36.98     109.56\n",
              "3    1208.18            8.0  46.536033  4326.72  36.90     110.52\n",
              "4    1267.18            7.5  46.514595  4247.04  36.73     112.01"
            ]
          },
          "execution_count": 14,
          "metadata": {},
          "output_type": "execute_result"
        }
      ],
      "source": [
        "x.head()"
      ]
    },
    {
      "cell_type": "code",
      "execution_count": null,
      "metadata": {
        "execution": {
          "iopub.execute_input": "2021-03-30T18:37:26.860352Z",
          "iopub.status.busy": "2021-03-30T18:37:26.859607Z",
          "iopub.status.idle": "2021-03-30T18:37:26.864372Z",
          "shell.execute_reply": "2021-03-30T18:37:26.863603Z"
        },
        "papermill": {
          "duration": 0.091339,
          "end_time": "2021-03-30T18:37:26.864499",
          "exception": false,
          "start_time": "2021-03-30T18:37:26.773160",
          "status": "completed"
        },
        "tags": [],
        "id": "RmC3naRvNuGY",
        "outputId": "84d5580f-294f-44af-81df-46104acaa4af"
      },
      "outputs": [
        {
          "data": {
            "text/plain": [
              "0    4538\n",
              "1    4483\n",
              "2    4541\n",
              "3    4466\n",
              "4    4370\n",
              "Name: Gold_Price, dtype: int64"
            ]
          },
          "execution_count": 15,
          "metadata": {},
          "output_type": "execute_result"
        }
      ],
      "source": [
        "y.head()"
      ]
    },
    {
      "cell_type": "markdown",
      "metadata": {
        "papermill": {
          "duration": 0.08144,
          "end_time": "2021-03-30T18:37:27.027841",
          "exception": false,
          "start_time": "2021-03-30T18:37:26.946401",
          "status": "completed"
        },
        "tags": [],
        "id": "ztKYlGZSNuGY"
      },
      "source": [
        "***Gold Price V/S Dependent Variables***"
      ]
    },
    {
      "cell_type": "code",
      "execution_count": null,
      "metadata": {
        "execution": {
          "iopub.execute_input": "2021-03-30T18:37:27.199154Z",
          "iopub.status.busy": "2021-03-30T18:37:27.196041Z",
          "iopub.status.idle": "2021-03-30T18:37:29.660131Z",
          "shell.execute_reply": "2021-03-30T18:37:29.660645Z"
        },
        "papermill": {
          "duration": 2.552065,
          "end_time": "2021-03-30T18:37:29.660803",
          "exception": false,
          "start_time": "2021-03-30T18:37:27.108738",
          "status": "completed"
        },
        "tags": [],
        "id": "Qtqysty1NuGZ",
        "outputId": "0f2c077b-bad7-453e-cf94-a33cdf90b8d2"
      },
      "outputs": [
        {
          "data": {
            "text/plain": [
              "Text(0, 0.5, 'Crude_Oil')"
            ]
          },
          "execution_count": 16,
          "metadata": {},
          "output_type": "execute_result"
        },
        {
          "data": {
            "image/png": "[encoded data removed]",
            "text/plain": [
              "<Figure size 432x288 with 2 Axes>"
            ]
          },
          "metadata": {
            "needs_background": "light"
          },
          "output_type": "display_data"
        }
      ],
      "source": [
        "fig,ax = plt.subplots()\n",
        "ax.plot(golds.Date, golds.Gold_Price, color=\"red\")\n",
        "ax.set_xlabel(\"Date\",fontsize=14)\n",
        "ax.set_ylabel(\"Gold Price\",color=\"red\",fontsize=14)\n",
        "ax2=ax.twinx()\n",
        "ax2.plot(golds.Date, golds.Crude_Oil,color=\"blue\")\n",
        "ax2.set_ylabel(\"Crude_Oil\",color=\"blue\",fontsize=14)"
      ]
    },
    {
      "cell_type": "code",
      "execution_count": null,
      "metadata": {
        "execution": {
          "iopub.execute_input": "2021-03-30T18:37:29.828270Z",
          "iopub.status.busy": "2021-03-30T18:37:29.827234Z",
          "iopub.status.idle": "2021-03-30T18:37:32.102986Z",
          "shell.execute_reply": "2021-03-30T18:37:32.103491Z"
        },
        "papermill": {
          "duration": 2.361072,
          "end_time": "2021-03-30T18:37:32.103641",
          "exception": false,
          "start_time": "2021-03-30T18:37:29.742569",
          "status": "completed"
        },
        "tags": [],
        "id": "YVEnL8U4NuGZ",
        "outputId": "e25ca7ca-aab7-472e-f035-a7dbdc91493a"
      },
      "outputs": [
        {
          "data": {
            "text/plain": [
              "Text(0, 0.5, 'Interest Rates')"
            ]
          },
          "execution_count": 17,
          "metadata": {},
          "output_type": "execute_result"
        },
        {
          "data": {
            "image/png": "[encoded data removed]",
            "text/plain": [
              "<Figure size 432x288 with 2 Axes>"
            ]
          },
          "metadata": {
            "needs_background": "light"
          },
          "output_type": "display_data"
        }
      ],
      "source": [
        "fig,ax = plt.subplots()\n",
        "ax.plot(golds.Date, golds.Gold_Price, color=\"red\")\n",
        "ax.set_xlabel(\"Date\",fontsize=14)\n",
        "ax.set_ylabel(\"Gold Price\",color=\"red\",fontsize=14)\n",
        "ax2=ax.twinx()\n",
        "ax2.plot(golds.Date, golds.Interest_Rate,color=\"blue\")\n",
        "ax2.set_ylabel(\"Interest Rates\",color=\"blue\",fontsize=14)"
      ]
    },
    {
      "cell_type": "code",
      "execution_count": null,
      "metadata": {
        "execution": {
          "iopub.execute_input": "2021-03-30T18:37:32.269934Z",
          "iopub.status.busy": "2021-03-30T18:37:32.269184Z",
          "iopub.status.idle": "2021-03-30T18:37:34.709607Z",
          "shell.execute_reply": "2021-03-30T18:37:34.708907Z"
        },
        "papermill": {
          "duration": 2.524098,
          "end_time": "2021-03-30T18:37:34.709728",
          "exception": false,
          "start_time": "2021-03-30T18:37:32.185630",
          "status": "completed"
        },
        "tags": [],
        "id": "m_NH7ojQNuGa",
        "outputId": "862bd4ee-4e3e-4f8c-ac99-ef7591926503"
      },
      "outputs": [
        {
          "data": {
            "text/plain": [
              "Text(0, 0.5, 'Dollar to Rupee')"
            ]
          },
          "execution_count": 18,
          "metadata": {},
          "output_type": "execute_result"
        },
        {
          "data": {
            "image/png": "[encoded data removed]",
            "text/plain": [
              "<Figure size 432x288 with 2 Axes>"
            ]
          },
          "metadata": {
            "needs_background": "light"
          },
          "output_type": "display_data"
        }
      ],
      "source": [
        "fig,ax = plt.subplots()\n",
        "ax.plot(golds.Date, golds.Gold_Price, color=\"red\")\n",
        "ax.set_xlabel(\"Date\",fontsize=14)\n",
        "ax.set_ylabel(\"Gold Price\",color=\"red\",fontsize=14)\n",
        "ax2=ax.twinx()\n",
        "ax2.plot(golds.Date, golds.USD_INR,color=\"blue\")\n",
        "ax2.set_ylabel(\"Dollar to Rupee\",color=\"blue\",fontsize=14)"
      ]
    },
    {
      "cell_type": "code",
      "execution_count": null,
      "metadata": {
        "execution": {
          "iopub.execute_input": "2021-03-30T18:37:34.888709Z",
          "iopub.status.busy": "2021-03-30T18:37:34.886689Z",
          "iopub.status.idle": "2021-03-30T18:37:35.025658Z",
          "shell.execute_reply": "2021-03-30T18:37:35.024971Z"
        },
        "papermill": {
          "duration": 0.233543,
          "end_time": "2021-03-30T18:37:35.025773",
          "exception": false,
          "start_time": "2021-03-30T18:37:34.792230",
          "status": "completed"
        },
        "tags": [],
        "id": "EqLf-8qONuGb",
        "outputId": "991ff929-e5b9-4131-fbcd-75754fda62ff"
      },
      "outputs": [
        {
          "data": {
            "text/plain": [
              "Text(0.5, 0, 'Series')"
            ]
          },
          "execution_count": 19,
          "metadata": {},
          "output_type": "execute_result"
        },
        {
          "data": {
            "image/png": "[encoded data removed]",
            "text/plain": [
              "<Figure size 432x288 with 1 Axes>"
            ]
          },
          "metadata": {
            "needs_background": "light"
          },
          "output_type": "display_data"
        }
      ],
      "source": [
        "plt.plot(golds.Gold_Price);\n",
        "plt.plot(golds.Sensex,color=\"red\")\n",
        "\n",
        "plt.ylabel(\" Gold Price & Sensex\")\n",
        "plt.xlabel(\"Series\")"
      ]
    },
    {
      "cell_type": "code",
      "execution_count": null,
      "metadata": {
        "execution": {
          "iopub.execute_input": "2021-03-30T18:37:35.203114Z",
          "iopub.status.busy": "2021-03-30T18:37:35.202036Z",
          "iopub.status.idle": "2021-03-30T18:37:37.454188Z",
          "shell.execute_reply": "2021-03-30T18:37:37.455565Z"
        },
        "papermill": {
          "duration": 2.345613,
          "end_time": "2021-03-30T18:37:37.455741",
          "exception": false,
          "start_time": "2021-03-30T18:37:35.110128",
          "status": "completed"
        },
        "tags": [],
        "id": "vflB8-jXNuGb",
        "outputId": "7ad52439-b730-4c55-8e25-bccc94b59b36"
      },
      "outputs": [
        {
          "data": {
            "text/plain": [
              "Text(0, 0.5, 'CPI')"
            ]
          },
          "execution_count": 20,
          "metadata": {},
          "output_type": "execute_result"
        },
        {
          "data": {
            "image/png": "[encoded data removed]",
            "text/plain": [
              "<Figure size 432x288 with 2 Axes>"
            ]
          },
          "metadata": {
            "needs_background": "light"
          },
          "output_type": "display_data"
        }
      ],
      "source": [
        "fig,ax = plt.subplots()\n",
        "ax.plot(golds.Date, golds.Gold_Price, color=\"red\")\n",
        "ax.set_xlabel(\"Date\",fontsize=14)\n",
        "ax.set_ylabel(\"Gold Price\",color=\"red\",fontsize=14)\n",
        "ax2=ax.twinx()\n",
        "ax2.plot(golds.Date, golds.CPI,color=\"blue\")\n",
        "ax2.set_ylabel(\"CPI\",color=\"blue\",fontsize=14)"
      ]
    },
    {
      "cell_type": "code",
      "execution_count": null,
      "metadata": {
        "execution": {
          "iopub.execute_input": "2021-03-30T18:37:37.641845Z",
          "iopub.status.busy": "2021-03-30T18:37:37.641108Z",
          "iopub.status.idle": "2021-03-30T18:37:40.097957Z",
          "shell.execute_reply": "2021-03-30T18:37:40.098579Z"
        },
        "papermill": {
          "duration": 2.555043,
          "end_time": "2021-03-30T18:37:40.098753",
          "exception": false,
          "start_time": "2021-03-30T18:37:37.543710",
          "status": "completed"
        },
        "tags": [],
        "id": "8MwVF1YjNuGb",
        "outputId": "0957f079-f5ee-4a8e-9d4f-29a637859082"
      },
      "outputs": [
        {
          "data": {
            "text/plain": [
              "Text(0, 0.5, 'Dollar Index')"
            ]
          },
          "execution_count": 21,
          "metadata": {},
          "output_type": "execute_result"
        },
        {
          "data": {
            "image/png": "[encoded data removed]",
            "text/plain": [
              "<Figure size 432x288 with 2 Axes>"
            ]
          },
          "metadata": {
            "needs_background": "light"
          },
          "output_type": "display_data"
        }
      ],
      "source": [
        "fig,ax = plt.subplots()\n",
        "ax.plot(golds.Date, golds.Gold_Price, color=\"red\")\n",
        "ax.set_xlabel(\"Date\",fontsize=14)\n",
        "ax.set_ylabel(\"Gold Price\",color=\"red\",fontsize=14)\n",
        "ax2=ax.twinx()\n",
        "ax2.plot(golds.Date, golds.USD_Index,color=\"blue\")\n",
        "ax2.set_ylabel(\"Dollar Index\",color=\"blue\",fontsize=14)"
      ]
    },
    {
      "cell_type": "markdown",
      "metadata": {
        "papermill": {
          "duration": 0.086228,
          "end_time": "2021-03-30T18:37:40.273435",
          "exception": false,
          "start_time": "2021-03-30T18:37:40.187207",
          "status": "completed"
        },
        "tags": [],
        "id": "agME0UIkNuGc"
      },
      "source": [
        "***Scatter Plots***"
      ]
    },
    {
      "cell_type": "code",
      "execution_count": null,
      "metadata": {
        "execution": {
          "iopub.execute_input": "2021-03-30T18:37:40.449861Z",
          "iopub.status.busy": "2021-03-30T18:37:40.449151Z",
          "iopub.status.idle": "2021-03-30T18:37:41.214602Z",
          "shell.execute_reply": "2021-03-30T18:37:41.213943Z"
        },
        "papermill": {
          "duration": 0.854656,
          "end_time": "2021-03-30T18:37:41.214721",
          "exception": false,
          "start_time": "2021-03-30T18:37:40.360065",
          "status": "completed"
        },
        "tags": [],
        "id": "pSXcTtMHNuGc",
        "outputId": "2d76d145-009d-4da0-d6f5-79ed2a56a5f5"
      },
      "outputs": [
        {
          "data": {
            "image/png": "[encoded data removed]",
            "text/plain": [
              "<Figure size 1296x576 with 6 Axes>"
            ]
          },
          "metadata": {
            "needs_background": "light"
          },
          "output_type": "display_data"
        }
      ],
      "source": [
        "fig, axis = plt.subplots(1,6)\n",
        "golds.plot(kind= 'scatter', x= 'Crude_Oil' , y= 'Gold_Price', ax=axis[0], figsize=(18,8));\n",
        "golds.plot(kind= 'scatter', x= 'Interest_Rate', y= 'Gold_Price', ax=axis[1]);\n",
        "golds.plot(kind= 'scatter', x= 'USD_INR', y= 'Gold_Price', ax=axis[2]);\n",
        "golds.plot(kind= 'scatter', x= 'Sensex', y= 'Gold_Price', ax=axis[3]);\n",
        "golds.plot(kind= 'scatter', x= 'CPI', y= 'Gold_Price', ax=axis[4]);\n",
        "golds.plot(kind= 'scatter', x= 'USD_Index', y= 'Gold_Price', ax=axis[5]);"
      ]
    },
    {
      "cell_type": "markdown",
      "metadata": {
        "papermill": {
          "duration": 0.088093,
          "end_time": "2021-03-30T18:37:41.391212",
          "exception": false,
          "start_time": "2021-03-30T18:37:41.303119",
          "status": "completed"
        },
        "tags": [],
        "id": "GOwKChyoNuGd"
      },
      "source": [
        "***Designing a Multiple Regression Model***"
      ]
    },
    {
      "cell_type": "code",
      "execution_count": null,
      "metadata": {
        "execution": {
          "iopub.execute_input": "2021-03-30T18:37:41.594814Z",
          "iopub.status.busy": "2021-03-30T18:37:41.593983Z",
          "iopub.status.idle": "2021-03-30T18:37:41.631730Z",
          "shell.execute_reply": "2021-03-30T18:37:41.632340Z"
        },
        "papermill": {
          "duration": 0.15161,
          "end_time": "2021-03-30T18:37:41.632492",
          "exception": false,
          "start_time": "2021-03-30T18:37:41.480882",
          "status": "completed"
        },
        "tags": [],
        "id": "Gj8_sFEXNuGd"
      },
      "outputs": [],
      "source": [
        "gldlr = LinearRegression()\n",
        "gldlr = gldlr.fit(x,y)"
      ]
    },
    {
      "cell_type": "code",
      "execution_count": null,
      "metadata": {
        "execution": {
          "iopub.execute_input": "2021-03-30T18:37:41.818195Z",
          "iopub.status.busy": "2021-03-30T18:37:41.817441Z",
          "iopub.status.idle": "2021-03-30T18:37:41.825853Z",
          "shell.execute_reply": "2021-03-30T18:37:41.825275Z"
        },
        "papermill": {
          "duration": 0.10226,
          "end_time": "2021-03-30T18:37:41.825963",
          "exception": false,
          "start_time": "2021-03-30T18:37:41.723703",
          "status": "completed"
        },
        "tags": [],
        "id": "GvFV3UM0NuGe",
        "outputId": "23768bf2-3f77-4422-f1c2-fd3112025161"
      },
      "outputs": [
        {
          "name": "stdout",
          "output_type": "stream",
          "text": [
            "y intercepts:  -2544.515336139986\n",
            "Cofficients:  [ 1.27661583e+00 -7.23404537e+02 -2.89155123e+02 -6.85908153e-01\n",
            "  6.96709372e+02 -8.11774161e+00]\n"
          ]
        }
      ],
      "source": [
        "print('y intercepts: ', gldlr.intercept_)\n",
        "print('Cofficients: ', gldlr.coef_)"
      ]
    },
    {
      "cell_type": "markdown",
      "metadata": {
        "papermill": {
          "duration": 0.090624,
          "end_time": "2021-03-30T18:37:42.008463",
          "exception": false,
          "start_time": "2021-03-30T18:37:41.917839",
          "status": "completed"
        },
        "tags": [],
        "id": "p8xjgSFtNuGe"
      },
      "source": [
        "***Prediction(goodness of fit) of the forcast variable***"
      ]
    },
    {
      "cell_type": "code",
      "execution_count": null,
      "metadata": {
        "execution": {
          "iopub.execute_input": "2021-03-30T18:37:42.200580Z",
          "iopub.status.busy": "2021-03-30T18:37:42.199457Z",
          "iopub.status.idle": "2021-03-30T18:37:42.204384Z",
          "shell.execute_reply": "2021-03-30T18:37:42.203740Z"
        },
        "papermill": {
          "duration": 0.104696,
          "end_time": "2021-03-30T18:37:42.204497",
          "exception": false,
          "start_time": "2021-03-30T18:37:42.099801",
          "status": "completed"
        },
        "tags": [],
        "id": "MKCPkwS0NuGe",
        "outputId": "ddc26d0b-6ea2-4372-cf4d-92bef27582de"
      },
      "outputs": [
        {
          "name": "stdout",
          "output_type": "stream",
          "text": [
            "Predicted vales of Gold Price \n",
            " [ 2579.33910557  2387.85434111  1805.86182489  1598.16824557\n",
            "  1965.50688922  2686.95082648  2936.69380043  3079.94239169\n",
            "  3485.57359264  3770.55846746  4097.82145337  4179.85024401\n",
            "  4195.20459938  4095.23121075  3943.95366568  3706.61668602\n",
            "  3433.77751928  3822.41459854  4069.58817291  4407.46857855\n",
            "  4538.24178766  5112.71822685  5269.15866937  5589.59843296\n",
            "  5713.50448213  5666.97723729  5533.35740087  5817.02139642\n",
            "  6030.8603887   6236.08261525  6435.53611388  6661.10210977\n",
            "  6731.60315291  6983.78990931  6692.67118139  6453.15061932\n",
            "  6614.10197432  6577.60720402  5970.56115538  6299.1307729\n",
            "  6364.88838332  6591.82856509  6836.803889    7595.24070072\n",
            "  7597.34653766  7633.39914876  8085.83407958  7979.67985077\n",
            "  8956.34563633  7884.7984587   7566.05875079  8077.21382932\n",
            "  8054.80981408  8529.75566321  8958.76636182  8333.88204543\n",
            "  8418.79447926  8790.40627246  9555.71012136  8547.47350315\n",
            "  9024.84227338  8306.42404498  7775.21128452  8018.74405886\n",
            "  7566.91019465  6993.36176624  7080.74032043  8441.56547228\n",
            "  8671.22997361  8982.54621763  8268.3736965   7513.07719915\n",
            "  7600.6414669   7265.58218715  7394.59162631  6827.38530883\n",
            "  8159.74961198  8000.70832795  8326.02950375  8428.70545145\n",
            "  8812.83133592  9079.23999214  9245.01036754  8347.13011809\n",
            "  7299.74464144  8123.74047413  7386.51226798  9288.04023646\n",
            "  9688.56240053 11898.12325289 11432.26845709 12744.55057538\n",
            " 15403.59158592 15613.81540406 14958.75210488 15187.83204696\n",
            " 15187.03392776 14580.64936196 13151.45889103 13948.40730946\n",
            " 14149.82604918 13476.15490424 13328.71836968 12230.69679759\n",
            " 13734.20910277 14379.18862435 15370.11150292 14417.39950614\n",
            " 16482.01632884 16820.38264558 16548.40957654 18319.19481097\n",
            " 17529.81809543 17201.30703652 17641.16885436 17846.04775768\n",
            " 17650.57694255 18589.59474984 18616.71395823 17584.63777051\n",
            " 18794.6619321  19434.20913695 19862.58643609 22284.15636614\n",
            " 22125.54142441 21723.93925635 22746.75973379 22882.86278326\n",
            " 23058.77555872 24753.87431738 25489.1440164  26163.95562604\n",
            " 25178.01545646 26650.45013891 26239.52184364 25634.35252783\n",
            " 23661.18016947 24623.60862579 25669.07518918 25551.65491277\n",
            " 24067.68207004 25807.36272835 26777.79903111 26370.29682231\n",
            " 27093.54533584 26351.11656072 26597.01824342 27137.51118109\n",
            " 28779.19227645 28795.08313028 28638.189763   29136.94490202\n",
            " 29674.13506713 29507.68663835 30387.72778221 30461.92080971\n",
            " 30703.88334827 31093.4774785  30101.65480654 29527.50344805\n",
            " 29595.41515343 29092.8095496  30053.26685188 29571.37668214\n",
            " 29425.68407129 30391.56676586 29606.38095686 29265.74017783\n",
            " 27558.883182   26205.68187209 25478.77630455 23817.23050544\n",
            " 24046.07166162 25168.17253898 26744.5337511  26875.85374186\n",
            " 27772.53744594 27534.05380891 28035.52449311 28414.82706453\n",
            " 29569.81983469 29572.40929447 28704.41152256 28789.72545548\n",
            " 29403.52530443 28970.54168917 30539.84922906 31192.04865133\n",
            " 31566.89650686 31366.4845985  30665.09832703 30859.07924802\n",
            " 31609.68814035 31607.34000804 31725.82989215 30794.88721909\n",
            " 30349.92403392 29970.31712898 30887.74939467 30166.51471361\n",
            " 30555.40949749 30939.26707877 31968.19444394 32402.55683616\n",
            " 31619.9831681  32406.66324745 31498.3404488  31277.5974945\n",
            " 31822.96550987 32599.26542138 31602.11655611 31771.12693535\n",
            " 31874.13431388 32929.75288152 31710.36843911 33279.85884461\n",
            " 34576.8860003  32397.62963064 31701.74547184 33431.45830889\n",
            " 34158.45651507 33326.75131674 34530.97984965 34362.76585001\n",
            " 34756.45665752 37148.14902141 36914.28618765 36709.44467778\n",
            " 36513.18739698 37026.87120848 37600.23563306 37783.89387916\n",
            " 38067.55574442 41464.3083411  37843.41639379 40350.488819\n",
            " 40029.94256527 39745.10057564 39799.72993496]\n"
          ]
        }
      ],
      "source": [
        "y_pred = gldlr.predict(x)\n",
        "print('Predicted vales of Gold Price \\n', y_pred) "
      ]
    },
    {
      "cell_type": "code",
      "execution_count": null,
      "metadata": {
        "execution": {
          "iopub.execute_input": "2021-03-30T18:37:42.392048Z",
          "iopub.status.busy": "2021-03-30T18:37:42.391028Z",
          "iopub.status.idle": "2021-03-30T18:37:42.394715Z",
          "shell.execute_reply": "2021-03-30T18:37:42.394170Z"
        },
        "papermill": {
          "duration": 0.098971,
          "end_time": "2021-03-30T18:37:42.394824",
          "exception": false,
          "start_time": "2021-03-30T18:37:42.295853",
          "status": "completed"
        },
        "tags": [],
        "id": "z5iTbElWNuGf"
      },
      "outputs": [],
      "source": [
        "goldprice=golds['Gold_Price']"
      ]
    },
    {
      "cell_type": "code",
      "execution_count": null,
      "metadata": {
        "execution": {
          "iopub.execute_input": "2021-03-30T18:37:42.593749Z",
          "iopub.status.busy": "2021-03-30T18:37:42.588326Z",
          "iopub.status.idle": "2021-03-30T18:37:42.729563Z",
          "shell.execute_reply": "2021-03-30T18:37:42.728975Z"
        },
        "papermill": {
          "duration": 0.244473,
          "end_time": "2021-03-30T18:37:42.729677",
          "exception": false,
          "start_time": "2021-03-30T18:37:42.485204",
          "status": "completed"
        },
        "tags": [],
        "id": "DROd1szdNuGf",
        "outputId": "784223df-9cec-4500-a59e-3716364d0928"
      },
      "outputs": [
        {
          "data": {
            "text/plain": [
              "Text(0.5, 0, 'Series')"
            ]
          },
          "execution_count": 27,
          "metadata": {},
          "output_type": "execute_result"
        },
        {
          "data": {
            "image/png": "[encoded data removed]",
            "text/plain": [
              "<Figure size 432x288 with 1 Axes>"
            ]
          },
          "metadata": {
            "needs_background": "light"
          },
          "output_type": "display_data"
        }
      ],
      "source": [
        "plt.plot(y_pred);\n",
        "plt.plot(goldprice,color=\"red\")\n",
        "\n",
        "plt.ylabel(\"Gold Price Original & Predict\")\n",
        "plt.xlabel(\"Series\")\n",
        "\n"
      ]
    },
    {
      "cell_type": "markdown",
      "metadata": {
        "papermill": {
          "duration": 0.091199,
          "end_time": "2021-03-30T18:37:42.913322",
          "exception": false,
          "start_time": "2021-03-30T18:37:42.822123",
          "status": "completed"
        },
        "tags": [],
        "id": "Wojcq-NHNuGf"
      },
      "source": [
        "1. Red- Original Gold Prices \n",
        "1. Blue Predicted Gold Prices"
      ]
    },
    {
      "cell_type": "markdown",
      "metadata": {
        "papermill": {
          "duration": 0.09241,
          "end_time": "2021-03-30T18:37:43.101718",
          "exception": false,
          "start_time": "2021-03-30T18:37:43.009308",
          "status": "completed"
        },
        "tags": [],
        "id": "-eDJ7Dd9NuGg"
      },
      "source": [
        "***Error & Coefficient of Determination***"
      ]
    },
    {
      "cell_type": "code",
      "execution_count": null,
      "metadata": {
        "execution": {
          "iopub.execute_input": "2021-03-30T18:37:43.295995Z",
          "iopub.status.busy": "2021-03-30T18:37:43.294920Z",
          "iopub.status.idle": "2021-03-30T18:37:43.298642Z",
          "shell.execute_reply": "2021-03-30T18:37:43.299316Z"
        },
        "papermill": {
          "duration": 0.10472,
          "end_time": "2021-03-30T18:37:43.299462",
          "exception": false,
          "start_time": "2021-03-30T18:37:43.194742",
          "status": "completed"
        },
        "tags": [],
        "id": "RbK9LB_sNuGg",
        "outputId": "7555d99a-b4c2-4f21-eb11-8c40ff4e836b"
      },
      "outputs": [
        {
          "name": "stdout",
          "output_type": "stream",
          "text": [
            "MSE: 5208187.864580986\n"
          ]
        }
      ],
      "source": [
        "\n",
        "mse = mean_squared_error(y,y_pred)\n",
        "print ('MSE:', mse)\n",
        "    "
      ]
    },
    {
      "cell_type": "code",
      "execution_count": null,
      "metadata": {
        "execution": {
          "iopub.execute_input": "2021-03-30T18:37:43.495967Z",
          "iopub.status.busy": "2021-03-30T18:37:43.494797Z",
          "iopub.status.idle": "2021-03-30T18:37:43.502056Z",
          "shell.execute_reply": "2021-03-30T18:37:43.501419Z"
        },
        "papermill": {
          "duration": 0.108462,
          "end_time": "2021-03-30T18:37:43.502221",
          "exception": false,
          "start_time": "2021-03-30T18:37:43.393759",
          "status": "completed"
        },
        "tags": [],
        "id": "zm9pbGlZNuGg",
        "outputId": "0f707248-d3e8-43fe-d0d2-16d3a9be4740"
      },
      "outputs": [
        {
          "name": "stdout",
          "output_type": "stream",
          "text": [
            "Coefficient of Determination: 0.9615897843964092\n"
          ]
        }
      ],
      "source": [
        "r_sq=gldlr.score(x,y)\n",
        "print(\"Coefficient of Determination:\",r_sq)"
      ]
    },
    {
      "cell_type": "markdown",
      "metadata": {
        "papermill": {
          "duration": 0.095305,
          "end_time": "2021-03-30T18:37:43.690964",
          "exception": false,
          "start_time": "2021-03-30T18:37:43.595659",
          "status": "completed"
        },
        "tags": [],
        "id": "OBUOoRWhNuGh"
      },
      "source": [
        "***Summary of Statistical Model***"
      ]
    },
    {
      "cell_type": "code",
      "execution_count": null,
      "metadata": {
        "execution": {
          "iopub.execute_input": "2021-03-30T18:37:43.902209Z",
          "iopub.status.busy": "2021-03-30T18:37:43.901339Z",
          "iopub.status.idle": "2021-03-30T18:37:43.931493Z",
          "shell.execute_reply": "2021-03-30T18:37:43.930023Z"
        },
        "papermill": {
          "duration": 0.146453,
          "end_time": "2021-03-30T18:37:43.931626",
          "exception": false,
          "start_time": "2021-03-30T18:37:43.785173",
          "status": "completed"
        },
        "tags": [],
        "id": "YpAFv47uNuGh",
        "outputId": "3763597f-de49-465e-f670-3a322686ec78"
      },
      "outputs": [
        {
          "data": {
            "text/html": [
              "<table class=\"simpletable\">\n",
              "<caption>OLS Regression Results</caption>\n",
              "<tr>\n",
              "  <th>Dep. Variable:</th>       <td>Gold_Price</td>    <th>  R-squared:         </th> <td>   0.962</td> \n",
              "</tr>\n",
              "<tr>\n",
              "  <th>Model:</th>                   <td>OLS</td>       <th>  Adj. R-squared:    </th> <td>   0.961</td> \n",
              "</tr>\n",
              "<tr>\n",
              "  <th>Method:</th>             <td>Least Squares</td>  <th>  F-statistic:       </th> <td>   968.0</td> \n",
              "</tr>\n",
              "<tr>\n",
              "  <th>Date:</th>             <td>Tue, 30 Mar 2021</td> <th>  Prob (F-statistic):</th> <td>3.99e-161</td>\n",
              "</tr>\n",
              "<tr>\n",
              "  <th>Time:</th>                 <td>18:37:43</td>     <th>  Log-Likelihood:    </th> <td> -2187.3</td> \n",
              "</tr>\n",
              "<tr>\n",
              "  <th>No. Observations:</th>      <td>   239</td>      <th>  AIC:               </th> <td>   4389.</td> \n",
              "</tr>\n",
              "<tr>\n",
              "  <th>Df Residuals:</th>          <td>   232</td>      <th>  BIC:               </th> <td>   4413.</td> \n",
              "</tr>\n",
              "<tr>\n",
              "  <th>Df Model:</th>              <td>     6</td>      <th>                     </th>     <td> </td>    \n",
              "</tr>\n",
              "<tr>\n",
              "  <th>Covariance Type:</th>      <td>nonrobust</td>    <th>                     </th>     <td> </td>    \n",
              "</tr>\n",
              "</table>\n",
              "<table class=\"simpletable\">\n",
              "<tr>\n",
              "        <td></td>           <th>coef</th>     <th>std err</th>      <th>t</th>      <th>P>|t|</th>  <th>[0.025</th>    <th>0.975]</th>  \n",
              "</tr>\n",
              "<tr>\n",
              "  <th>Intercept</th>     <td>-2544.5153</td> <td> 1966.871</td> <td>   -1.294</td> <td> 0.197</td> <td>-6419.727</td> <td> 1330.696</td>\n",
              "</tr>\n",
              "<tr>\n",
              "  <th>Crude_Oil</th>     <td>    1.2766</td> <td>    0.219</td> <td>    5.831</td> <td> 0.000</td> <td>    0.845</td> <td>    1.708</td>\n",
              "</tr>\n",
              "<tr>\n",
              "  <th>Interest_Rate</th> <td> -723.4045</td> <td>  183.305</td> <td>   -3.946</td> <td> 0.000</td> <td>-1084.559</td> <td> -362.250</td>\n",
              "</tr>\n",
              "<tr>\n",
              "  <th>USD_INR</th>       <td> -289.1551</td> <td>   75.904</td> <td>   -3.809</td> <td> 0.000</td> <td> -438.704</td> <td> -139.606</td>\n",
              "</tr>\n",
              "<tr>\n",
              "  <th>Sensex</th>        <td>   -0.6859</td> <td>    0.063</td> <td>  -10.856</td> <td> 0.000</td> <td>   -0.810</td> <td>   -0.561</td>\n",
              "</tr>\n",
              "<tr>\n",
              "  <th>CPI</th>           <td>  696.7094</td> <td>   41.806</td> <td>   16.665</td> <td> 0.000</td> <td>  614.341</td> <td>  779.078</td>\n",
              "</tr>\n",
              "<tr>\n",
              "  <th>USD_Index</th>     <td>   -8.1177</td> <td>   26.742</td> <td>   -0.304</td> <td> 0.762</td> <td>  -60.806</td> <td>   44.571</td>\n",
              "</tr>\n",
              "</table>\n",
              "<table class=\"simpletable\">\n",
              "<tr>\n",
              "  <th>Omnibus:</th>       <td>97.388</td> <th>  Durbin-Watson:     </th> <td>   0.231</td>\n",
              "</tr>\n",
              "<tr>\n",
              "  <th>Prob(Omnibus):</th> <td> 0.000</td> <th>  Jarque-Bera (JB):  </th> <td> 418.720</td>\n",
              "</tr>\n",
              "<tr>\n",
              "  <th>Skew:</th>          <td> 1.623</td> <th>  Prob(JB):          </th> <td>1.19e-91</td>\n",
              "</tr>\n",
              "<tr>\n",
              "  <th>Kurtosis:</th>      <td> 8.614</td> <th>  Cond. No.          </th> <td>2.82e+05</td>\n",
              "</tr>\n",
              "</table><br/><br/>Warnings:<br/>[1] Standard Errors assume that the covariance matrix of the errors is correctly specified.<br/>[2] The condition number is large, 2.82e+05. This might indicate that there are<br/>strong multicollinearity or other numerical problems."
            ],
            "text/plain": [
              "<class 'statsmodels.iolib.summary.Summary'>\n",
              "\"\"\"\n",
              "                            OLS Regression Results                            \n",
              "==============================================================================\n",
              "Dep. Variable:             Gold_Price   R-squared:                       0.962\n",
              "Model:                            OLS   Adj. R-squared:                  0.961\n",
              "Method:                 Least Squares   F-statistic:                     968.0\n",
              "Date:                Tue, 30 Mar 2021   Prob (F-statistic):          3.99e-161\n",
              "Time:                        18:37:43   Log-Likelihood:                -2187.3\n",
              "No. Observations:                 239   AIC:                             4389.\n",
              "Df Residuals:                     232   BIC:                             4413.\n",
              "Df Model:                           6                                         \n",
              "Covariance Type:            nonrobust                                         \n",
              "=================================================================================\n",
              "                    coef    std err          t      P>|t|      [0.025      0.975]\n",
              "---------------------------------------------------------------------------------\n",
              "Intercept     -2544.5153   1966.871     -1.294      0.197   -6419.727    1330.696\n",
              "Crude_Oil         1.2766      0.219      5.831      0.000       0.845       1.708\n",
              "Interest_Rate  -723.4045    183.305     -3.946      0.000   -1084.559    -362.250\n",
              "USD_INR        -289.1551     75.904     -3.809      0.000    -438.704    -139.606\n",
              "Sensex           -0.6859      0.063    -10.856      0.000      -0.810      -0.561\n",
              "CPI             696.7094     41.806     16.665      0.000     614.341     779.078\n",
              "USD_Index        -8.1177     26.742     -0.304      0.762     -60.806      44.571\n",
              "==============================================================================\n",
              "Omnibus:                       97.388   Durbin-Watson:                   0.231\n",
              "Prob(Omnibus):                  0.000   Jarque-Bera (JB):              418.720\n",
              "Skew:                           1.623   Prob(JB):                     1.19e-91\n",
              "Kurtosis:                       8.614   Cond. No.                     2.82e+05\n",
              "==============================================================================\n",
              "\n",
              "Warnings:\n",
              "[1] Standard Errors assume that the covariance matrix of the errors is correctly specified.\n",
              "[2] The condition number is large, 2.82e+05. This might indicate that there are\n",
              "strong multicollinearity or other numerical problems.\n",
              "\"\"\""
            ]
          },
          "execution_count": 30,
          "metadata": {},
          "output_type": "execute_result"
        }
      ],
      "source": [
        "goldModel = smf.ols(formula = \"Gold_Price~Crude_Oil+Interest_Rate+USD_INR+Sensex+CPI+USD_Index\" ,data = golds).fit()\n",
        "goldModel.summary()"
      ]
    },
    {
      "cell_type": "code",
      "execution_count": null,
      "metadata": {
        "execution": {
          "iopub.execute_input": "2021-03-30T18:37:44.144412Z",
          "iopub.status.busy": "2021-03-30T18:37:44.143216Z",
          "iopub.status.idle": "2021-03-30T18:37:44.163633Z",
          "shell.execute_reply": "2021-03-30T18:37:44.162933Z"
        },
        "papermill": {
          "duration": 0.134648,
          "end_time": "2021-03-30T18:37:44.163759",
          "exception": false,
          "start_time": "2021-03-30T18:37:44.029111",
          "status": "completed"
        },
        "tags": [],
        "id": "Ef9DpQBbNuGh",
        "outputId": "93938117-2f59-4422-bd38-bdb20e2a1c24"
      },
      "outputs": [
        {
          "data": {
            "text/html": [
              "<table class=\"simpletable\">\n",
              "<caption>OLS Regression Results</caption>\n",
              "<tr>\n",
              "  <th>Dep. Variable:</th>       <td>Gold_Price</td>    <th>  R-squared:         </th> <td>   0.959</td> \n",
              "</tr>\n",
              "<tr>\n",
              "  <th>Model:</th>                   <td>OLS</td>       <th>  Adj. R-squared:    </th> <td>   0.958</td> \n",
              "</tr>\n",
              "<tr>\n",
              "  <th>Method:</th>             <td>Least Squares</td>  <th>  F-statistic:       </th> <td>   1090.</td> \n",
              "</tr>\n",
              "<tr>\n",
              "  <th>Date:</th>             <td>Tue, 30 Mar 2021</td> <th>  Prob (F-statistic):</th> <td>2.14e-159</td>\n",
              "</tr>\n",
              "<tr>\n",
              "  <th>Time:</th>                 <td>18:37:44</td>     <th>  Log-Likelihood:    </th> <td> -2195.0</td> \n",
              "</tr>\n",
              "<tr>\n",
              "  <th>No. Observations:</th>      <td>   239</td>      <th>  AIC:               </th> <td>   4402.</td> \n",
              "</tr>\n",
              "<tr>\n",
              "  <th>Df Residuals:</th>          <td>   233</td>      <th>  BIC:               </th> <td>   4423.</td> \n",
              "</tr>\n",
              "<tr>\n",
              "  <th>Df Model:</th>              <td>     5</td>      <th>                     </th>     <td> </td>    \n",
              "</tr>\n",
              "<tr>\n",
              "  <th>Covariance Type:</th>      <td>nonrobust</td>    <th>                     </th>     <td> </td>    \n",
              "</tr>\n",
              "</table>\n",
              "<table class=\"simpletable\">\n",
              "<tr>\n",
              "      <td></td>         <th>coef</th>     <th>std err</th>      <th>t</th>      <th>P>|t|</th>  <th>[0.025</th>    <th>0.975]</th>  \n",
              "</tr>\n",
              "<tr>\n",
              "  <th>Intercept</th> <td>-2265.6242</td> <td> 2026.144</td> <td>   -1.118</td> <td> 0.265</td> <td>-6257.529</td> <td> 1726.280</td>\n",
              "</tr>\n",
              "<tr>\n",
              "  <th>Crude_Oil</th> <td>    0.7274</td> <td>    0.174</td> <td>    4.176</td> <td> 0.000</td> <td>    0.384</td> <td>    1.071</td>\n",
              "</tr>\n",
              "<tr>\n",
              "  <th>USD_INR</th>   <td> -318.3032</td> <td>   77.871</td> <td>   -4.088</td> <td> 0.000</td> <td> -471.724</td> <td> -164.883</td>\n",
              "</tr>\n",
              "<tr>\n",
              "  <th>Sensex</th>    <td>   -0.6027</td> <td>    0.061</td> <td>   -9.816</td> <td> 0.000</td> <td>   -0.724</td> <td>   -0.482</td>\n",
              "</tr>\n",
              "<tr>\n",
              "  <th>CPI</th>       <td>  686.6095</td> <td>   43.013</td> <td>   15.963</td> <td> 0.000</td> <td>  601.865</td> <td>  771.354</td>\n",
              "</tr>\n",
              "<tr>\n",
              "  <th>USD_Index</th> <td>  -35.5455</td> <td>   26.619</td> <td>   -1.335</td> <td> 0.183</td> <td>  -87.990</td> <td>   16.899</td>\n",
              "</tr>\n",
              "</table>\n",
              "<table class=\"simpletable\">\n",
              "<tr>\n",
              "  <th>Omnibus:</th>       <td>119.442</td> <th>  Durbin-Watson:     </th> <td>   0.180</td> \n",
              "</tr>\n",
              "<tr>\n",
              "  <th>Prob(Omnibus):</th> <td> 0.000</td>  <th>  Jarque-Bera (JB):  </th> <td> 757.066</td> \n",
              "</tr>\n",
              "<tr>\n",
              "  <th>Skew:</th>          <td> 1.891</td>  <th>  Prob(JB):          </th> <td>4.03e-165</td>\n",
              "</tr>\n",
              "<tr>\n",
              "  <th>Kurtosis:</th>      <td>10.857</td>  <th>  Cond. No.          </th> <td>2.82e+05</td> \n",
              "</tr>\n",
              "</table><br/><br/>Warnings:<br/>[1] Standard Errors assume that the covariance matrix of the errors is correctly specified.<br/>[2] The condition number is large, 2.82e+05. This might indicate that there are<br/>strong multicollinearity or other numerical problems."
            ],
            "text/plain": [
              "<class 'statsmodels.iolib.summary.Summary'>\n",
              "\"\"\"\n",
              "                            OLS Regression Results                            \n",
              "==============================================================================\n",
              "Dep. Variable:             Gold_Price   R-squared:                       0.959\n",
              "Model:                            OLS   Adj. R-squared:                  0.958\n",
              "Method:                 Least Squares   F-statistic:                     1090.\n",
              "Date:                Tue, 30 Mar 2021   Prob (F-statistic):          2.14e-159\n",
              "Time:                        18:37:44   Log-Likelihood:                -2195.0\n",
              "No. Observations:                 239   AIC:                             4402.\n",
              "Df Residuals:                     233   BIC:                             4423.\n",
              "Df Model:                           5                                         \n",
              "Covariance Type:            nonrobust                                         \n",
              "==============================================================================\n",
              "                 coef    std err          t      P>|t|      [0.025      0.975]\n",
              "------------------------------------------------------------------------------\n",
              "Intercept  -2265.6242   2026.144     -1.118      0.265   -6257.529    1726.280\n",
              "Crude_Oil      0.7274      0.174      4.176      0.000       0.384       1.071\n",
              "USD_INR     -318.3032     77.871     -4.088      0.000    -471.724    -164.883\n",
              "Sensex        -0.6027      0.061     -9.816      0.000      -0.724      -0.482\n",
              "CPI          686.6095     43.013     15.963      0.000     601.865     771.354\n",
              "USD_Index    -35.5455     26.619     -1.335      0.183     -87.990      16.899\n",
              "==============================================================================\n",
              "Omnibus:                      119.442   Durbin-Watson:                   0.180\n",
              "Prob(Omnibus):                  0.000   Jarque-Bera (JB):              757.066\n",
              "Skew:                           1.891   Prob(JB):                    4.03e-165\n",
              "Kurtosis:                      10.857   Cond. No.                     2.82e+05\n",
              "==============================================================================\n",
              "\n",
              "Warnings:\n",
              "[1] Standard Errors assume that the covariance matrix of the errors is correctly specified.\n",
              "[2] The condition number is large, 2.82e+05. This might indicate that there are\n",
              "strong multicollinearity or other numerical problems.\n",
              "\"\"\""
            ]
          },
          "execution_count": 31,
          "metadata": {},
          "output_type": "execute_result"
        }
      ],
      "source": [
        "goldModel1 = smf.ols(formula = \"Gold_Price~Crude_Oil+USD_INR+Sensex+CPI+USD_Index\" ,data = golds).fit()\n",
        "goldModel1.summary()"
      ]
    },
    {
      "cell_type": "code",
      "execution_count": null,
      "metadata": {
        "execution": {
          "iopub.execute_input": "2021-03-30T18:37:44.371564Z",
          "iopub.status.busy": "2021-03-30T18:37:44.365613Z",
          "iopub.status.idle": "2021-03-30T18:37:44.395430Z",
          "shell.execute_reply": "2021-03-30T18:37:44.394847Z"
        },
        "papermill": {
          "duration": 0.136309,
          "end_time": "2021-03-30T18:37:44.395556",
          "exception": false,
          "start_time": "2021-03-30T18:37:44.259247",
          "status": "completed"
        },
        "tags": [],
        "id": "y77k9aniNuGi",
        "outputId": "965c6028-5792-48cc-c1fa-19d6fd4ec373"
      },
      "outputs": [
        {
          "data": {
            "text/html": [
              "<table class=\"simpletable\">\n",
              "<caption>OLS Regression Results</caption>\n",
              "<tr>\n",
              "  <th>Dep. Variable:</th>       <td>Gold_Price</td>    <th>  R-squared:         </th> <td>   0.959</td> \n",
              "</tr>\n",
              "<tr>\n",
              "  <th>Model:</th>                   <td>OLS</td>       <th>  Adj. R-squared:    </th> <td>   0.958</td> \n",
              "</tr>\n",
              "<tr>\n",
              "  <th>Method:</th>             <td>Least Squares</td>  <th>  F-statistic:       </th> <td>   1095.</td> \n",
              "</tr>\n",
              "<tr>\n",
              "  <th>Date:</th>             <td>Tue, 30 Mar 2021</td> <th>  Prob (F-statistic):</th> <td>1.30e-159</td>\n",
              "</tr>\n",
              "<tr>\n",
              "  <th>Time:</th>                 <td>18:37:44</td>     <th>  Log-Likelihood:    </th> <td> -2194.5</td> \n",
              "</tr>\n",
              "<tr>\n",
              "  <th>No. Observations:</th>      <td>   239</td>      <th>  AIC:               </th> <td>   4401.</td> \n",
              "</tr>\n",
              "<tr>\n",
              "  <th>Df Residuals:</th>          <td>   233</td>      <th>  BIC:               </th> <td>   4422.</td> \n",
              "</tr>\n",
              "<tr>\n",
              "  <th>Df Model:</th>              <td>     5</td>      <th>                     </th>     <td> </td>    \n",
              "</tr>\n",
              "<tr>\n",
              "  <th>Covariance Type:</th>      <td>nonrobust</td>    <th>                     </th>     <td> </td>    \n",
              "</tr>\n",
              "</table>\n",
              "<table class=\"simpletable\">\n",
              "<tr>\n",
              "        <td></td>           <th>coef</th>     <th>std err</th>      <th>t</th>      <th>P>|t|</th>  <th>[0.025</th>    <th>0.975]</th>  \n",
              "</tr>\n",
              "<tr>\n",
              "  <th>Intercept</th>     <td>-4524.2401</td> <td> 1951.204</td> <td>   -2.319</td> <td> 0.021</td> <td>-8368.498</td> <td> -679.983</td>\n",
              "</tr>\n",
              "<tr>\n",
              "  <th>Crude_Oil</th>     <td>    1.3965</td> <td>    0.223</td> <td>    6.267</td> <td> 0.000</td> <td>    0.957</td> <td>    1.836</td>\n",
              "</tr>\n",
              "<tr>\n",
              "  <th>Interest_Rate</th> <td> -791.3528</td> <td>  187.650</td> <td>   -4.217</td> <td> 0.000</td> <td>-1161.061</td> <td> -421.645</td>\n",
              "</tr>\n",
              "<tr>\n",
              "  <th>Sensex</th>        <td>   -0.5821</td> <td>    0.059</td> <td>   -9.927</td> <td> 0.000</td> <td>   -0.698</td> <td>   -0.467</td>\n",
              "</tr>\n",
              "<tr>\n",
              "  <th>CPI</th>           <td>  560.5561</td> <td>   22.308</td> <td>   25.128</td> <td> 0.000</td> <td>  516.604</td> <td>  604.508</td>\n",
              "</tr>\n",
              "<tr>\n",
              "  <th>USD_Index</th>     <td>  -68.2818</td> <td>   22.198</td> <td>   -3.076</td> <td> 0.002</td> <td> -112.015</td> <td>  -24.548</td>\n",
              "</tr>\n",
              "</table>\n",
              "<table class=\"simpletable\">\n",
              "<tr>\n",
              "  <th>Omnibus:</th>       <td>75.367</td> <th>  Durbin-Watson:     </th> <td>   0.189</td>\n",
              "</tr>\n",
              "<tr>\n",
              "  <th>Prob(Omnibus):</th> <td> 0.000</td> <th>  Jarque-Bera (JB):  </th> <td> 221.476</td>\n",
              "</tr>\n",
              "<tr>\n",
              "  <th>Skew:</th>          <td> 1.362</td> <th>  Prob(JB):          </th> <td>8.07e-49</td>\n",
              "</tr>\n",
              "<tr>\n",
              "  <th>Kurtosis:</th>      <td> 6.849</td> <th>  Cond. No.          </th> <td>2.72e+05</td>\n",
              "</tr>\n",
              "</table><br/><br/>Warnings:<br/>[1] Standard Errors assume that the covariance matrix of the errors is correctly specified.<br/>[2] The condition number is large, 2.72e+05. This might indicate that there are<br/>strong multicollinearity or other numerical problems."
            ],
            "text/plain": [
              "<class 'statsmodels.iolib.summary.Summary'>\n",
              "\"\"\"\n",
              "                            OLS Regression Results                            \n",
              "==============================================================================\n",
              "Dep. Variable:             Gold_Price   R-squared:                       0.959\n",
              "Model:                            OLS   Adj. R-squared:                  0.958\n",
              "Method:                 Least Squares   F-statistic:                     1095.\n",
              "Date:                Tue, 30 Mar 2021   Prob (F-statistic):          1.30e-159\n",
              "Time:                        18:37:44   Log-Likelihood:                -2194.5\n",
              "No. Observations:                 239   AIC:                             4401.\n",
              "Df Residuals:                     233   BIC:                             4422.\n",
              "Df Model:                           5                                         \n",
              "Covariance Type:            nonrobust                                         \n",
              "=================================================================================\n",
              "                    coef    std err          t      P>|t|      [0.025      0.975]\n",
              "---------------------------------------------------------------------------------\n",
              "Intercept     -4524.2401   1951.204     -2.319      0.021   -8368.498    -679.983\n",
              "Crude_Oil         1.3965      0.223      6.267      0.000       0.957       1.836\n",
              "Interest_Rate  -791.3528    187.650     -4.217      0.000   -1161.061    -421.645\n",
              "Sensex           -0.5821      0.059     -9.927      0.000      -0.698      -0.467\n",
              "CPI             560.5561     22.308     25.128      0.000     516.604     604.508\n",
              "USD_Index       -68.2818     22.198     -3.076      0.002    -112.015     -24.548\n",
              "==============================================================================\n",
              "Omnibus:                       75.367   Durbin-Watson:                   0.189\n",
              "Prob(Omnibus):                  0.000   Jarque-Bera (JB):              221.476\n",
              "Skew:                           1.362   Prob(JB):                     8.07e-49\n",
              "Kurtosis:                       6.849   Cond. No.                     2.72e+05\n",
              "==============================================================================\n",
              "\n",
              "Warnings:\n",
              "[1] Standard Errors assume that the covariance matrix of the errors is correctly specified.\n",
              "[2] The condition number is large, 2.72e+05. This might indicate that there are\n",
              "strong multicollinearity or other numerical problems.\n",
              "\"\"\""
            ]
          },
          "execution_count": 32,
          "metadata": {},
          "output_type": "execute_result"
        }
      ],
      "source": [
        "goldModel2 = smf.ols(formula = \"Gold_Price~Crude_Oil+Interest_Rate+Sensex+CPI+USD_Index\" ,data = golds).fit()\n",
        "goldModel2.summary()"
      ]
    },
    {
      "cell_type": "code",
      "execution_count": null,
      "metadata": {
        "execution": {
          "iopub.execute_input": "2021-03-30T18:37:44.606760Z",
          "iopub.status.busy": "2021-03-30T18:37:44.604590Z",
          "iopub.status.idle": "2021-03-30T18:37:44.612193Z",
          "shell.execute_reply": "2021-03-30T18:37:44.611476Z"
        },
        "papermill": {
          "duration": 0.118749,
          "end_time": "2021-03-30T18:37:44.612321",
          "exception": false,
          "start_time": "2021-03-30T18:37:44.493572",
          "status": "completed"
        },
        "tags": [],
        "id": "rCpwnsu9NuGi"
      },
      "outputs": [],
      "source": [
        "goldModel3 = smf.ols(formula = \"Gold_Price~Crude_Oil+Interest_Rate+USD_INR+CPI+USD_Index\" ,data = golds).fit()"
      ]
    },
    {
      "cell_type": "code",
      "execution_count": null,
      "metadata": {
        "execution": {
          "iopub.execute_input": "2021-03-30T18:37:44.825591Z",
          "iopub.status.busy": "2021-03-30T18:37:44.824840Z",
          "iopub.status.idle": "2021-03-30T18:37:44.830884Z",
          "shell.execute_reply": "2021-03-30T18:37:44.830135Z"
        },
        "papermill": {
          "duration": 0.121868,
          "end_time": "2021-03-30T18:37:44.831020",
          "exception": false,
          "start_time": "2021-03-30T18:37:44.709152",
          "status": "completed"
        },
        "tags": [],
        "id": "njWMawmrNuGi"
      },
      "outputs": [],
      "source": [
        "goldModel4 = smf.ols(formula = \"Gold_Price~Crude_Oil+Interest_Rate+USD_INR+Sensex+USD_Index\" ,data = golds).fit()"
      ]
    },
    {
      "cell_type": "code",
      "execution_count": null,
      "metadata": {
        "execution": {
          "iopub.execute_input": "2021-03-30T18:37:45.045402Z",
          "iopub.status.busy": "2021-03-30T18:37:45.042925Z",
          "iopub.status.idle": "2021-03-30T18:37:45.064335Z",
          "shell.execute_reply": "2021-03-30T18:37:45.064854Z"
        },
        "papermill": {
          "duration": 0.136014,
          "end_time": "2021-03-30T18:37:45.064996",
          "exception": false,
          "start_time": "2021-03-30T18:37:44.928982",
          "status": "completed"
        },
        "tags": [],
        "id": "_goxBjtVNuGi",
        "outputId": "85b20c01-5335-43a2-aa8a-d34450cef6a9"
      },
      "outputs": [
        {
          "data": {
            "text/html": [
              "<table class=\"simpletable\">\n",
              "<caption>OLS Regression Results</caption>\n",
              "<tr>\n",
              "  <th>Dep. Variable:</th>       <td>Gold_Price</td>    <th>  R-squared:         </th> <td>   0.962</td> \n",
              "</tr>\n",
              "<tr>\n",
              "  <th>Model:</th>                   <td>OLS</td>       <th>  Adj. R-squared:    </th> <td>   0.961</td> \n",
              "</tr>\n",
              "<tr>\n",
              "  <th>Method:</th>             <td>Least Squares</td>  <th>  F-statistic:       </th> <td>   1166.</td> \n",
              "</tr>\n",
              "<tr>\n",
              "  <th>Date:</th>             <td>Tue, 30 Mar 2021</td> <th>  Prob (F-statistic):</th> <td>1.16e-162</td>\n",
              "</tr>\n",
              "<tr>\n",
              "  <th>Time:</th>                 <td>18:37:45</td>     <th>  Log-Likelihood:    </th> <td> -2187.3</td> \n",
              "</tr>\n",
              "<tr>\n",
              "  <th>No. Observations:</th>      <td>   239</td>      <th>  AIC:               </th> <td>   4387.</td> \n",
              "</tr>\n",
              "<tr>\n",
              "  <th>Df Residuals:</th>          <td>   233</td>      <th>  BIC:               </th> <td>   4408.</td> \n",
              "</tr>\n",
              "<tr>\n",
              "  <th>Df Model:</th>              <td>     5</td>      <th>                     </th>     <td> </td>    \n",
              "</tr>\n",
              "<tr>\n",
              "  <th>Covariance Type:</th>      <td>nonrobust</td>    <th>                     </th>     <td> </td>    \n",
              "</tr>\n",
              "</table>\n",
              "<table class=\"simpletable\">\n",
              "<tr>\n",
              "        <td></td>           <th>coef</th>     <th>std err</th>      <th>t</th>      <th>P>|t|</th>  <th>[0.025</th>    <th>0.975]</th>  \n",
              "</tr>\n",
              "<tr>\n",
              "  <th>Intercept</th>     <td>-2857.2544</td> <td> 1672.190</td> <td>   -1.709</td> <td> 0.089</td> <td>-6151.800</td> <td>  437.291</td>\n",
              "</tr>\n",
              "<tr>\n",
              "  <th>Crude_Oil</th>     <td>    1.3111</td> <td>    0.187</td> <td>    7.020</td> <td> 0.000</td> <td>    0.943</td> <td>    1.679</td>\n",
              "</tr>\n",
              "<tr>\n",
              "  <th>Interest_Rate</th> <td> -737.8655</td> <td>  176.661</td> <td>   -4.177</td> <td> 0.000</td> <td>-1085.923</td> <td> -389.808</td>\n",
              "</tr>\n",
              "<tr>\n",
              "  <th>USD_INR</th>       <td> -302.7625</td> <td>   61.134</td> <td>   -4.952</td> <td> 0.000</td> <td> -423.208</td> <td> -182.317</td>\n",
              "</tr>\n",
              "<tr>\n",
              "  <th>Sensex</th>        <td>   -0.6894</td> <td>    0.062</td> <td>  -11.124</td> <td> 0.000</td> <td>   -0.812</td> <td>   -0.567</td>\n",
              "</tr>\n",
              "<tr>\n",
              "  <th>CPI</th>           <td>  701.5756</td> <td>   38.535</td> <td>   18.206</td> <td> 0.000</td> <td>  625.653</td> <td>  777.498</td>\n",
              "</tr>\n",
              "</table>\n",
              "<table class=\"simpletable\">\n",
              "<tr>\n",
              "  <th>Omnibus:</th>       <td>98.541</td> <th>  Durbin-Watson:     </th> <td>   0.235</td>\n",
              "</tr>\n",
              "<tr>\n",
              "  <th>Prob(Omnibus):</th> <td> 0.000</td> <th>  Jarque-Bera (JB):  </th> <td> 431.533</td>\n",
              "</tr>\n",
              "<tr>\n",
              "  <th>Skew:</th>          <td> 1.637</td> <th>  Prob(JB):          </th> <td>1.97e-94</td>\n",
              "</tr>\n",
              "<tr>\n",
              "  <th>Kurtosis:</th>      <td> 8.711</td> <th>  Cond. No.          </th> <td>2.41e+05</td>\n",
              "</tr>\n",
              "</table><br/><br/>Warnings:<br/>[1] Standard Errors assume that the covariance matrix of the errors is correctly specified.<br/>[2] The condition number is large, 2.41e+05. This might indicate that there are<br/>strong multicollinearity or other numerical problems."
            ],
            "text/plain": [
              "<class 'statsmodels.iolib.summary.Summary'>\n",
              "\"\"\"\n",
              "                            OLS Regression Results                            \n",
              "==============================================================================\n",
              "Dep. Variable:             Gold_Price   R-squared:                       0.962\n",
              "Model:                            OLS   Adj. R-squared:                  0.961\n",
              "Method:                 Least Squares   F-statistic:                     1166.\n",
              "Date:                Tue, 30 Mar 2021   Prob (F-statistic):          1.16e-162\n",
              "Time:                        18:37:45   Log-Likelihood:                -2187.3\n",
              "No. Observations:                 239   AIC:                             4387.\n",
              "Df Residuals:                     233   BIC:                             4408.\n",
              "Df Model:                           5                                         \n",
              "Covariance Type:            nonrobust                                         \n",
              "=================================================================================\n",
              "                    coef    std err          t      P>|t|      [0.025      0.975]\n",
              "---------------------------------------------------------------------------------\n",
              "Intercept     -2857.2544   1672.190     -1.709      0.089   -6151.800     437.291\n",
              "Crude_Oil         1.3111      0.187      7.020      0.000       0.943       1.679\n",
              "Interest_Rate  -737.8655    176.661     -4.177      0.000   -1085.923    -389.808\n",
              "USD_INR        -302.7625     61.134     -4.952      0.000    -423.208    -182.317\n",
              "Sensex           -0.6894      0.062    -11.124      0.000      -0.812      -0.567\n",
              "CPI             701.5756     38.535     18.206      0.000     625.653     777.498\n",
              "==============================================================================\n",
              "Omnibus:                       98.541   Durbin-Watson:                   0.235\n",
              "Prob(Omnibus):                  0.000   Jarque-Bera (JB):              431.533\n",
              "Skew:                           1.637   Prob(JB):                     1.97e-94\n",
              "Kurtosis:                       8.711   Cond. No.                     2.41e+05\n",
              "==============================================================================\n",
              "\n",
              "Warnings:\n",
              "[1] Standard Errors assume that the covariance matrix of the errors is correctly specified.\n",
              "[2] The condition number is large, 2.41e+05. This might indicate that there are\n",
              "strong multicollinearity or other numerical problems.\n",
              "\"\"\""
            ]
          },
          "execution_count": 35,
          "metadata": {},
          "output_type": "execute_result"
        }
      ],
      "source": [
        "goldModel5 = smf.ols(formula = \"Gold_Price~Crude_Oil+Interest_Rate+USD_INR+Sensex+CPI\" ,data = golds).fit()\n",
        "goldModel5.summary()"
      ]
    },
    {
      "cell_type": "code",
      "execution_count": null,
      "metadata": {
        "execution": {
          "iopub.execute_input": "2021-03-30T18:37:45.264841Z",
          "iopub.status.busy": "2021-03-30T18:37:45.263792Z",
          "iopub.status.idle": "2021-03-30T18:37:45.282675Z",
          "shell.execute_reply": "2021-03-30T18:37:45.283255Z"
        },
        "papermill": {
          "duration": 0.121018,
          "end_time": "2021-03-30T18:37:45.283404",
          "exception": false,
          "start_time": "2021-03-30T18:37:45.162386",
          "status": "completed"
        },
        "tags": [],
        "id": "av3k2Nj2NuGj"
      },
      "outputs": [],
      "source": [
        "goldModel6 = smf.ols(formula = \"Gold_Price~Interest_Rate+USD_INR+Sensex+CPI+USD_Index\" ,data = golds).fit()"
      ]
    },
    {
      "cell_type": "code",
      "execution_count": null,
      "metadata": {
        "execution": {
          "iopub.execute_input": "2021-03-30T18:37:45.523663Z",
          "iopub.status.busy": "2021-03-30T18:37:45.522433Z",
          "iopub.status.idle": "2021-03-30T18:37:45.535427Z",
          "shell.execute_reply": "2021-03-30T18:37:45.536165Z"
        },
        "papermill": {
          "duration": 0.151058,
          "end_time": "2021-03-30T18:37:45.536343",
          "exception": false,
          "start_time": "2021-03-30T18:37:45.385285",
          "status": "completed"
        },
        "tags": [],
        "id": "N4lcz48TNuGj"
      },
      "outputs": [],
      "source": [
        "goldModel7 = smf.ols(formula = \"Gold_Price~USD_INR+Sensex+CPI+USD_Index\" ,data = golds).fit()"
      ]
    },
    {
      "cell_type": "code",
      "execution_count": null,
      "metadata": {
        "execution": {
          "iopub.execute_input": "2021-03-30T18:37:45.767557Z",
          "iopub.status.busy": "2021-03-30T18:37:45.766650Z",
          "iopub.status.idle": "2021-03-30T18:37:45.772815Z",
          "shell.execute_reply": "2021-03-30T18:37:45.773416Z"
        },
        "papermill": {
          "duration": 0.125841,
          "end_time": "2021-03-30T18:37:45.773564",
          "exception": false,
          "start_time": "2021-03-30T18:37:45.647723",
          "status": "completed"
        },
        "tags": [],
        "id": "kg3inPZQNuGj"
      },
      "outputs": [],
      "source": [
        "goldModel8 = smf.ols(formula = \"Gold_Price~Interest_Rate+Sensex+CPI+USD_Index\" ,data = golds).fit()"
      ]
    },
    {
      "cell_type": "code",
      "execution_count": null,
      "metadata": {
        "execution": {
          "iopub.execute_input": "2021-03-30T18:37:45.971923Z",
          "iopub.status.busy": "2021-03-30T18:37:45.971128Z",
          "iopub.status.idle": "2021-03-30T18:37:45.986530Z",
          "shell.execute_reply": "2021-03-30T18:37:45.987046Z"
        },
        "papermill": {
          "duration": 0.116127,
          "end_time": "2021-03-30T18:37:45.987221",
          "exception": false,
          "start_time": "2021-03-30T18:37:45.871094",
          "status": "completed"
        },
        "tags": [],
        "id": "i38YQ1hLNuGk"
      },
      "outputs": [],
      "source": [
        "goldModel9 = smf.ols(formula = \"Gold_Price~Interest_Rate+USD_INR+CPI+USD_Index\" ,data = golds).fit()"
      ]
    },
    {
      "cell_type": "code",
      "execution_count": null,
      "metadata": {
        "execution": {
          "iopub.execute_input": "2021-03-30T18:37:46.188196Z",
          "iopub.status.busy": "2021-03-30T18:37:46.187510Z",
          "iopub.status.idle": "2021-03-30T18:37:46.203149Z",
          "shell.execute_reply": "2021-03-30T18:37:46.203668Z"
        },
        "papermill": {
          "duration": 0.118004,
          "end_time": "2021-03-30T18:37:46.203832",
          "exception": false,
          "start_time": "2021-03-30T18:37:46.085828",
          "status": "completed"
        },
        "tags": [],
        "id": "_OsaL_e8NuGk"
      },
      "outputs": [],
      "source": [
        "goldModel10 = smf.ols(formula = \"Gold_Price~Interest_Rate+USD_INR+Sensex+USD_Index\" ,data = golds).fit()"
      ]
    },
    {
      "cell_type": "code",
      "execution_count": null,
      "metadata": {
        "execution": {
          "iopub.execute_input": "2021-03-30T18:37:46.400270Z",
          "iopub.status.busy": "2021-03-30T18:37:46.399594Z",
          "iopub.status.idle": "2021-03-30T18:37:46.414857Z",
          "shell.execute_reply": "2021-03-30T18:37:46.415444Z"
        },
        "papermill": {
          "duration": 0.115191,
          "end_time": "2021-03-30T18:37:46.415607",
          "exception": false,
          "start_time": "2021-03-30T18:37:46.300416",
          "status": "completed"
        },
        "tags": [],
        "id": "6YgIIzQJNuGk"
      },
      "outputs": [],
      "source": [
        "goldModel11 = smf.ols(formula = \"Gold_Price~Interest_Rate+USD_INR+Sensex+CPI\" ,data = golds).fit()"
      ]
    },
    {
      "cell_type": "code",
      "execution_count": null,
      "metadata": {
        "execution": {
          "iopub.execute_input": "2021-03-30T18:37:46.613066Z",
          "iopub.status.busy": "2021-03-30T18:37:46.612424Z",
          "iopub.status.idle": "2021-03-30T18:37:46.627600Z",
          "shell.execute_reply": "2021-03-30T18:37:46.628111Z"
        },
        "papermill": {
          "duration": 0.116109,
          "end_time": "2021-03-30T18:37:46.628267",
          "exception": false,
          "start_time": "2021-03-30T18:37:46.512158",
          "status": "completed"
        },
        "tags": [],
        "id": "Ca2NnWS7NuGk"
      },
      "outputs": [],
      "source": [
        "goldModel12 = smf.ols(formula = \"Gold_Price~Crude_Oil+Sensex+CPI+USD_Index\" ,data = golds).fit()"
      ]
    },
    {
      "cell_type": "code",
      "execution_count": null,
      "metadata": {
        "execution": {
          "iopub.execute_input": "2021-03-30T18:37:46.825273Z",
          "iopub.status.busy": "2021-03-30T18:37:46.824620Z",
          "iopub.status.idle": "2021-03-30T18:37:46.840985Z",
          "shell.execute_reply": "2021-03-30T18:37:46.841545Z"
        },
        "papermill": {
          "duration": 0.116734,
          "end_time": "2021-03-30T18:37:46.841694",
          "exception": false,
          "start_time": "2021-03-30T18:37:46.724960",
          "status": "completed"
        },
        "tags": [],
        "id": "FJvbhc4TNuGl"
      },
      "outputs": [],
      "source": [
        "goldModel13 = smf.ols(formula = \"Gold_Price~Crude_Oil+USD_INR+CPI+USD_Index\" ,data = golds).fit()"
      ]
    },
    {
      "cell_type": "code",
      "execution_count": null,
      "metadata": {
        "execution": {
          "iopub.execute_input": "2021-03-30T18:37:47.040470Z",
          "iopub.status.busy": "2021-03-30T18:37:47.039735Z",
          "iopub.status.idle": "2021-03-30T18:37:47.054783Z",
          "shell.execute_reply": "2021-03-30T18:37:47.055333Z"
        },
        "papermill": {
          "duration": 0.116888,
          "end_time": "2021-03-30T18:37:47.055503",
          "exception": false,
          "start_time": "2021-03-30T18:37:46.938615",
          "status": "completed"
        },
        "tags": [],
        "id": "6r20IYkiNuGl"
      },
      "outputs": [],
      "source": [
        "goldModel14 = smf.ols(formula = \"Gold_Price~Crude_Oil+USD_INR+Sensex+USD_Index\" ,data = golds).fit()"
      ]
    },
    {
      "cell_type": "code",
      "execution_count": null,
      "metadata": {
        "execution": {
          "iopub.execute_input": "2021-03-30T18:37:47.255803Z",
          "iopub.status.busy": "2021-03-30T18:37:47.255095Z",
          "iopub.status.idle": "2021-03-30T18:37:47.269726Z",
          "shell.execute_reply": "2021-03-30T18:37:47.270258Z"
        },
        "papermill": {
          "duration": 0.116546,
          "end_time": "2021-03-30T18:37:47.270423",
          "exception": false,
          "start_time": "2021-03-30T18:37:47.153877",
          "status": "completed"
        },
        "tags": [],
        "id": "ZM52qCMONuGl"
      },
      "outputs": [],
      "source": [
        "goldModel15 = smf.ols(formula = \"Gold_Price~Crude_Oil+USD_INR+Sensex+CPI\" ,data = golds).fit()"
      ]
    },
    {
      "cell_type": "code",
      "execution_count": null,
      "metadata": {
        "execution": {
          "iopub.execute_input": "2021-03-30T18:37:47.468838Z",
          "iopub.status.busy": "2021-03-30T18:37:47.468093Z",
          "iopub.status.idle": "2021-03-30T18:37:47.483482Z",
          "shell.execute_reply": "2021-03-30T18:37:47.483969Z"
        },
        "papermill": {
          "duration": 0.1162,
          "end_time": "2021-03-30T18:37:47.484138",
          "exception": false,
          "start_time": "2021-03-30T18:37:47.367938",
          "status": "completed"
        },
        "tags": [],
        "id": "AO4SuPIwNuGm"
      },
      "outputs": [],
      "source": [
        "goldModel16 = smf.ols(formula = \"Gold_Price~Crude_Oil+Interest_Rate+CPI+USD_Index\" ,data = golds).fit()"
      ]
    },
    {
      "cell_type": "code",
      "execution_count": null,
      "metadata": {
        "execution": {
          "iopub.execute_input": "2021-03-30T18:37:47.698343Z",
          "iopub.status.busy": "2021-03-30T18:37:47.697595Z",
          "iopub.status.idle": "2021-03-30T18:37:47.701583Z",
          "shell.execute_reply": "2021-03-30T18:37:47.702066Z"
        },
        "papermill": {
          "duration": 0.119756,
          "end_time": "2021-03-30T18:37:47.702238",
          "exception": false,
          "start_time": "2021-03-30T18:37:47.582482",
          "status": "completed"
        },
        "tags": [],
        "id": "Ua19KOBDNuGm"
      },
      "outputs": [],
      "source": [
        "goldModel17 = smf.ols(formula = \"Gold_Price~Crude_Oil+Interest_Rate+Sensex+USD_Index\" ,data = golds).fit()"
      ]
    },
    {
      "cell_type": "code",
      "execution_count": null,
      "metadata": {
        "execution": {
          "iopub.execute_input": "2021-03-30T18:37:47.902753Z",
          "iopub.status.busy": "2021-03-30T18:37:47.902095Z",
          "iopub.status.idle": "2021-03-30T18:37:47.917590Z",
          "shell.execute_reply": "2021-03-30T18:37:47.918162Z"
        },
        "papermill": {
          "duration": 0.117368,
          "end_time": "2021-03-30T18:37:47.918318",
          "exception": false,
          "start_time": "2021-03-30T18:37:47.800950",
          "status": "completed"
        },
        "tags": [],
        "id": "HSUABxHFNuGm"
      },
      "outputs": [],
      "source": [
        "goldModel18 = smf.ols(formula = \"Gold_Price~Crude_Oil+Interest_Rate+Sensex+CPI\" ,data = golds).fit()"
      ]
    },
    {
      "cell_type": "code",
      "execution_count": null,
      "metadata": {
        "execution": {
          "iopub.execute_input": "2021-03-30T18:37:48.122154Z",
          "iopub.status.busy": "2021-03-30T18:37:48.121433Z",
          "iopub.status.idle": "2021-03-30T18:37:48.136568Z",
          "shell.execute_reply": "2021-03-30T18:37:48.137101Z"
        },
        "papermill": {
          "duration": 0.118497,
          "end_time": "2021-03-30T18:37:48.137289",
          "exception": false,
          "start_time": "2021-03-30T18:37:48.018792",
          "status": "completed"
        },
        "tags": [],
        "id": "_t6okKw0NuGm"
      },
      "outputs": [],
      "source": [
        "goldModel19 = smf.ols(formula = \"Gold_Price~Crude_Oil+Interest_Rate+USD_INR+USD_Index\" ,data = golds).fit()"
      ]
    },
    {
      "cell_type": "code",
      "execution_count": null,
      "metadata": {
        "execution": {
          "iopub.execute_input": "2021-03-30T18:37:48.352143Z",
          "iopub.status.busy": "2021-03-30T18:37:48.349834Z",
          "iopub.status.idle": "2021-03-30T18:37:48.356236Z",
          "shell.execute_reply": "2021-03-30T18:37:48.355537Z"
        },
        "papermill": {
          "duration": 0.11941,
          "end_time": "2021-03-30T18:37:48.356384",
          "exception": false,
          "start_time": "2021-03-30T18:37:48.236974",
          "status": "completed"
        },
        "tags": [],
        "id": "QSd7ql9nNuGm"
      },
      "outputs": [],
      "source": [
        "goldModel20 = smf.ols(formula = \"Gold_Price~Crude_Oil+Interest_Rate+USD_INR+CPI\" ,data = golds).fit()"
      ]
    },
    {
      "cell_type": "code",
      "execution_count": null,
      "metadata": {
        "execution": {
          "iopub.execute_input": "2021-03-30T18:37:48.582988Z",
          "iopub.status.busy": "2021-03-30T18:37:48.582247Z",
          "iopub.status.idle": "2021-03-30T18:37:48.585494Z",
          "shell.execute_reply": "2021-03-30T18:37:48.586064Z"
        },
        "papermill": {
          "duration": 0.120148,
          "end_time": "2021-03-30T18:37:48.586231",
          "exception": false,
          "start_time": "2021-03-30T18:37:48.466083",
          "status": "completed"
        },
        "tags": [],
        "id": "1Jxpj0F8NuGn"
      },
      "outputs": [],
      "source": [
        "goldModel21 = smf.ols(formula = \"Gold_Price~Crude_Oil+Interest_Rate+USD_INR+Sensex\" ,data = golds).fit()"
      ]
    },
    {
      "cell_type": "code",
      "execution_count": null,
      "metadata": {
        "execution": {
          "iopub.execute_input": "2021-03-30T18:37:48.790761Z",
          "iopub.status.busy": "2021-03-30T18:37:48.789997Z",
          "iopub.status.idle": "2021-03-30T18:37:48.805163Z",
          "shell.execute_reply": "2021-03-30T18:37:48.805769Z"
        },
        "papermill": {
          "duration": 0.119646,
          "end_time": "2021-03-30T18:37:48.805924",
          "exception": false,
          "start_time": "2021-03-30T18:37:48.686278",
          "status": "completed"
        },
        "tags": [],
        "id": "PRmvWxpZNuGn"
      },
      "outputs": [],
      "source": [
        "goldModel22 = smf.ols(formula = \"Gold_Price~Sensex+CPI+USD_Index\" ,data = golds).fit()"
      ]
    },
    {
      "cell_type": "code",
      "execution_count": null,
      "metadata": {
        "execution": {
          "iopub.execute_input": "2021-03-30T18:37:49.011518Z",
          "iopub.status.busy": "2021-03-30T18:37:49.010839Z",
          "iopub.status.idle": "2021-03-30T18:37:49.026130Z",
          "shell.execute_reply": "2021-03-30T18:37:49.025537Z"
        },
        "papermill": {
          "duration": 0.119514,
          "end_time": "2021-03-30T18:37:49.026266",
          "exception": false,
          "start_time": "2021-03-30T18:37:48.906752",
          "status": "completed"
        },
        "tags": [],
        "id": "7Iu9zOK1NuGn"
      },
      "outputs": [],
      "source": [
        "goldModel23 = smf.ols(formula = \"Gold_Price~USD_INR+CPI+USD_Index\" ,data = golds).fit()"
      ]
    },
    {
      "cell_type": "code",
      "execution_count": null,
      "metadata": {
        "execution": {
          "iopub.execute_input": "2021-03-30T18:37:49.240809Z",
          "iopub.status.busy": "2021-03-30T18:37:49.239420Z",
          "iopub.status.idle": "2021-03-30T18:37:49.245901Z",
          "shell.execute_reply": "2021-03-30T18:37:49.245275Z"
        },
        "papermill": {
          "duration": 0.118793,
          "end_time": "2021-03-30T18:37:49.246020",
          "exception": false,
          "start_time": "2021-03-30T18:37:49.127227",
          "status": "completed"
        },
        "tags": [],
        "id": "QE1URCsoNuGn"
      },
      "outputs": [],
      "source": [
        "goldModel24 = smf.ols(formula = \"Gold_Price~USD_INR+Sensex+USD_Index\" ,data = golds).fit()"
      ]
    },
    {
      "cell_type": "code",
      "execution_count": null,
      "metadata": {
        "execution": {
          "iopub.execute_input": "2021-03-30T18:37:49.459694Z",
          "iopub.status.busy": "2021-03-30T18:37:49.457851Z",
          "iopub.status.idle": "2021-03-30T18:37:49.462749Z",
          "shell.execute_reply": "2021-03-30T18:37:49.463400Z"
        },
        "papermill": {
          "duration": 0.117612,
          "end_time": "2021-03-30T18:37:49.463569",
          "exception": false,
          "start_time": "2021-03-30T18:37:49.345957",
          "status": "completed"
        },
        "tags": [],
        "id": "4LcsrjupNuGn"
      },
      "outputs": [],
      "source": [
        "goldModel25 = smf.ols(formula = \"Gold_Price~USD_INR+Sensex+CPI\" ,data = golds).fit()"
      ]
    },
    {
      "cell_type": "markdown",
      "metadata": {
        "papermill": {
          "duration": 0.098797,
          "end_time": "2021-03-30T18:37:49.665128",
          "exception": false,
          "start_time": "2021-03-30T18:37:49.566331",
          "status": "completed"
        },
        "tags": [],
        "id": "-w25wnOdNuGn"
      },
      "source": [
        "***Best Reggression Model***"
      ]
    },
    {
      "cell_type": "code",
      "execution_count": null,
      "metadata": {
        "execution": {
          "iopub.execute_input": "2021-03-30T18:37:49.888759Z",
          "iopub.status.busy": "2021-03-30T18:37:49.888014Z",
          "iopub.status.idle": "2021-03-30T18:37:49.892297Z",
          "shell.execute_reply": "2021-03-30T18:37:49.891662Z"
        },
        "papermill": {
          "duration": 0.122214,
          "end_time": "2021-03-30T18:37:49.892413",
          "exception": false,
          "start_time": "2021-03-30T18:37:49.770199",
          "status": "completed"
        },
        "tags": [],
        "id": "6IdEtEyTNuGn",
        "outputId": "1040d0c1-2b20-45c1-e0de-182aa4b6ac92"
      },
      "outputs": [
        {
          "data": {
            "text/html": [
              "<table class=\"simpletable\">\n",
              "<caption>OLS Regression Results</caption>\n",
              "<tr>\n",
              "  <th>Dep. Variable:</th>       <td>Gold_Price</td>    <th>  R-squared:         </th> <td>   0.962</td> \n",
              "</tr>\n",
              "<tr>\n",
              "  <th>Model:</th>                   <td>OLS</td>       <th>  Adj. R-squared:    </th> <td>   0.961</td> \n",
              "</tr>\n",
              "<tr>\n",
              "  <th>Method:</th>             <td>Least Squares</td>  <th>  F-statistic:       </th> <td>   1166.</td> \n",
              "</tr>\n",
              "<tr>\n",
              "  <th>Date:</th>             <td>Tue, 30 Mar 2021</td> <th>  Prob (F-statistic):</th> <td>1.16e-162</td>\n",
              "</tr>\n",
              "<tr>\n",
              "  <th>Time:</th>                 <td>18:37:49</td>     <th>  Log-Likelihood:    </th> <td> -2187.3</td> \n",
              "</tr>\n",
              "<tr>\n",
              "  <th>No. Observations:</th>      <td>   239</td>      <th>  AIC:               </th> <td>   4387.</td> \n",
              "</tr>\n",
              "<tr>\n",
              "  <th>Df Residuals:</th>          <td>   233</td>      <th>  BIC:               </th> <td>   4408.</td> \n",
              "</tr>\n",
              "<tr>\n",
              "  <th>Df Model:</th>              <td>     5</td>      <th>                     </th>     <td> </td>    \n",
              "</tr>\n",
              "<tr>\n",
              "  <th>Covariance Type:</th>      <td>nonrobust</td>    <th>                     </th>     <td> </td>    \n",
              "</tr>\n",
              "</table>\n",
              "<table class=\"simpletable\">\n",
              "<tr>\n",
              "        <td></td>           <th>coef</th>     <th>std err</th>      <th>t</th>      <th>P>|t|</th>  <th>[0.025</th>    <th>0.975]</th>  \n",
              "</tr>\n",
              "<tr>\n",
              "  <th>Intercept</th>     <td>-2857.2544</td> <td> 1672.190</td> <td>   -1.709</td> <td> 0.089</td> <td>-6151.800</td> <td>  437.291</td>\n",
              "</tr>\n",
              "<tr>\n",
              "  <th>Crude_Oil</th>     <td>    1.3111</td> <td>    0.187</td> <td>    7.020</td> <td> 0.000</td> <td>    0.943</td> <td>    1.679</td>\n",
              "</tr>\n",
              "<tr>\n",
              "  <th>Interest_Rate</th> <td> -737.8655</td> <td>  176.661</td> <td>   -4.177</td> <td> 0.000</td> <td>-1085.923</td> <td> -389.808</td>\n",
              "</tr>\n",
              "<tr>\n",
              "  <th>USD_INR</th>       <td> -302.7625</td> <td>   61.134</td> <td>   -4.952</td> <td> 0.000</td> <td> -423.208</td> <td> -182.317</td>\n",
              "</tr>\n",
              "<tr>\n",
              "  <th>Sensex</th>        <td>   -0.6894</td> <td>    0.062</td> <td>  -11.124</td> <td> 0.000</td> <td>   -0.812</td> <td>   -0.567</td>\n",
              "</tr>\n",
              "<tr>\n",
              "  <th>CPI</th>           <td>  701.5756</td> <td>   38.535</td> <td>   18.206</td> <td> 0.000</td> <td>  625.653</td> <td>  777.498</td>\n",
              "</tr>\n",
              "</table>\n",
              "<table class=\"simpletable\">\n",
              "<tr>\n",
              "  <th>Omnibus:</th>       <td>98.541</td> <th>  Durbin-Watson:     </th> <td>   0.235</td>\n",
              "</tr>\n",
              "<tr>\n",
              "  <th>Prob(Omnibus):</th> <td> 0.000</td> <th>  Jarque-Bera (JB):  </th> <td> 431.533</td>\n",
              "</tr>\n",
              "<tr>\n",
              "  <th>Skew:</th>          <td> 1.637</td> <th>  Prob(JB):          </th> <td>1.97e-94</td>\n",
              "</tr>\n",
              "<tr>\n",
              "  <th>Kurtosis:</th>      <td> 8.711</td> <th>  Cond. No.          </th> <td>2.41e+05</td>\n",
              "</tr>\n",
              "</table><br/><br/>Warnings:<br/>[1] Standard Errors assume that the covariance matrix of the errors is correctly specified.<br/>[2] The condition number is large, 2.41e+05. This might indicate that there are<br/>strong multicollinearity or other numerical problems."
            ],
            "text/plain": [
              "<class 'statsmodels.iolib.summary.Summary'>\n",
              "\"\"\"\n",
              "                            OLS Regression Results                            \n",
              "==============================================================================\n",
              "Dep. Variable:             Gold_Price   R-squared:                       0.962\n",
              "Model:                            OLS   Adj. R-squared:                  0.961\n",
              "Method:                 Least Squares   F-statistic:                     1166.\n",
              "Date:                Tue, 30 Mar 2021   Prob (F-statistic):          1.16e-162\n",
              "Time:                        18:37:49   Log-Likelihood:                -2187.3\n",
              "No. Observations:                 239   AIC:                             4387.\n",
              "Df Residuals:                     233   BIC:                             4408.\n",
              "Df Model:                           5                                         \n",
              "Covariance Type:            nonrobust                                         \n",
              "=================================================================================\n",
              "                    coef    std err          t      P>|t|      [0.025      0.975]\n",
              "---------------------------------------------------------------------------------\n",
              "Intercept     -2857.2544   1672.190     -1.709      0.089   -6151.800     437.291\n",
              "Crude_Oil         1.3111      0.187      7.020      0.000       0.943       1.679\n",
              "Interest_Rate  -737.8655    176.661     -4.177      0.000   -1085.923    -389.808\n",
              "USD_INR        -302.7625     61.134     -4.952      0.000    -423.208    -182.317\n",
              "Sensex           -0.6894      0.062    -11.124      0.000      -0.812      -0.567\n",
              "CPI             701.5756     38.535     18.206      0.000     625.653     777.498\n",
              "==============================================================================\n",
              "Omnibus:                       98.541   Durbin-Watson:                   0.235\n",
              "Prob(Omnibus):                  0.000   Jarque-Bera (JB):              431.533\n",
              "Skew:                           1.637   Prob(JB):                     1.97e-94\n",
              "Kurtosis:                       8.711   Cond. No.                     2.41e+05\n",
              "==============================================================================\n",
              "\n",
              "Warnings:\n",
              "[1] Standard Errors assume that the covariance matrix of the errors is correctly specified.\n",
              "[2] The condition number is large, 2.41e+05. This might indicate that there are\n",
              "strong multicollinearity or other numerical problems.\n",
              "\"\"\""
            ]
          },
          "execution_count": 56,
          "metadata": {},
          "output_type": "execute_result"
        }
      ],
      "source": [
        "goldModel5.summary()"
      ]
    },
    {
      "cell_type": "markdown",
      "metadata": {
        "papermill": {
          "duration": 0.148668,
          "end_time": "2021-03-30T18:37:50.141377",
          "exception": false,
          "start_time": "2021-03-30T18:37:49.992709",
          "status": "completed"
        },
        "tags": [],
        "id": "atXyeYKDNuGo"
      },
      "source": [
        "### R squared shows that 96.2% variation in y can be explained by these variables."
      ]
    },
    {
      "cell_type": "markdown",
      "metadata": {
        "papermill": {
          "duration": 0.09959,
          "end_time": "2021-03-30T18:37:50.341059",
          "exception": false,
          "start_time": "2021-03-30T18:37:50.241469",
          "status": "completed"
        },
        "tags": [],
        "id": "HI5XRthVNuGo"
      },
      "source": [
        "***Residual Plots***"
      ]
    },
    {
      "cell_type": "code",
      "execution_count": null,
      "metadata": {
        "execution": {
          "iopub.execute_input": "2021-03-30T18:37:50.554620Z",
          "iopub.status.busy": "2021-03-30T18:37:50.553809Z",
          "iopub.status.idle": "2021-03-30T18:37:50.720283Z",
          "shell.execute_reply": "2021-03-30T18:37:50.720929Z"
        },
        "papermill": {
          "duration": 0.279226,
          "end_time": "2021-03-30T18:37:50.721122",
          "exception": false,
          "start_time": "2021-03-30T18:37:50.441896",
          "status": "completed"
        },
        "tags": [],
        "id": "SWUuN-5ZNuGo",
        "outputId": "70fac9ff-bafc-43c2-bd76-95be75f910ac"
      },
      "outputs": [
        {
          "data": {
            "image/png": "[encoded data removed]",
            "text/plain": [
              "<Figure size 432x288 with 1 Axes>"
            ]
          },
          "metadata": {
            "needs_background": "light"
          },
          "output_type": "display_data"
        }
      ],
      "source": [
        "sns.residplot(y_pred, y,color = 'yellow');\n",
        "plt.title ('Residual Plot of Gold Price with Estimated Gold Price');"
      ]
    },
    {
      "cell_type": "code",
      "execution_count": null,
      "metadata": {
        "execution": {
          "iopub.execute_input": "2021-03-30T18:37:50.931485Z",
          "iopub.status.busy": "2021-03-30T18:37:50.930476Z",
          "iopub.status.idle": "2021-03-30T18:37:51.094689Z",
          "shell.execute_reply": "2021-03-30T18:37:51.095242Z"
        },
        "papermill": {
          "duration": 0.268931,
          "end_time": "2021-03-30T18:37:51.095390",
          "exception": false,
          "start_time": "2021-03-30T18:37:50.826459",
          "status": "completed"
        },
        "tags": [],
        "id": "B2_5DF8CNuGo",
        "outputId": "969c3a94-21d2-43da-a6fa-f7c0be7feffc"
      },
      "outputs": [
        {
          "data": {
            "image/png": "[encoded data removed]",
            "text/plain": [
              "<Figure size 432x288 with 1 Axes>"
            ]
          },
          "metadata": {
            "needs_background": "light"
          },
          "output_type": "display_data"
        }
      ],
      "source": [
        "sns.residplot(golds[features].Crude_Oil, y,color = 'red');\n",
        "plt.title('Residue plot of Crude Oil with Gold Price');"
      ]
    },
    {
      "cell_type": "code",
      "execution_count": null,
      "metadata": {
        "execution": {
          "iopub.execute_input": "2021-03-30T18:37:51.305114Z",
          "iopub.status.busy": "2021-03-30T18:37:51.304118Z",
          "iopub.status.idle": "2021-03-30T18:37:51.467547Z",
          "shell.execute_reply": "2021-03-30T18:37:51.468089Z"
        },
        "papermill": {
          "duration": 0.269525,
          "end_time": "2021-03-30T18:37:51.468242",
          "exception": false,
          "start_time": "2021-03-30T18:37:51.198717",
          "status": "completed"
        },
        "tags": [],
        "id": "m0r2-8UQNuGo",
        "outputId": "0070f9ec-52ea-44b9-9ca9-1c1f1917a039"
      },
      "outputs": [
        {
          "data": {
            "image/png": "[encoded data removed]",
            "text/plain": [
              "<Figure size 432x288 with 1 Axes>"
            ]
          },
          "metadata": {
            "needs_background": "light"
          },
          "output_type": "display_data"
        }
      ],
      "source": [
        "sns.residplot(golds[features].Interest_Rate, y,color = 'green');\n",
        "plt.title('Residue plot of Interest Rate with Gold Price');"
      ]
    },
    {
      "cell_type": "code",
      "execution_count": null,
      "metadata": {
        "execution": {
          "iopub.execute_input": "2021-03-30T18:37:51.679399Z",
          "iopub.status.busy": "2021-03-30T18:37:51.678335Z",
          "iopub.status.idle": "2021-03-30T18:37:51.842828Z",
          "shell.execute_reply": "2021-03-30T18:37:51.843444Z"
        },
        "papermill": {
          "duration": 0.271873,
          "end_time": "2021-03-30T18:37:51.843586",
          "exception": false,
          "start_time": "2021-03-30T18:37:51.571713",
          "status": "completed"
        },
        "tags": [],
        "id": "wpCjmX9aNuGp",
        "outputId": "3426570f-63f1-41ed-9f40-5e1a306638b0"
      },
      "outputs": [
        {
          "data": {
            "image/png": "[encoded data removed]",
            "text/plain": [
              "<Figure size 432x288 with 1 Axes>"
            ]
          },
          "metadata": {
            "needs_background": "light"
          },
          "output_type": "display_data"
        }
      ],
      "source": [
        "sns.residplot(golds[features].USD_INR, y,color = 'blue');\n",
        "plt.title('Residue plot of USD_INR with Gold Price');"
      ]
    },
    {
      "cell_type": "code",
      "execution_count": null,
      "metadata": {
        "execution": {
          "iopub.execute_input": "2021-03-30T18:37:52.058434Z",
          "iopub.status.busy": "2021-03-30T18:37:52.057404Z",
          "iopub.status.idle": "2021-03-30T18:37:52.221897Z",
          "shell.execute_reply": "2021-03-30T18:37:52.222488Z"
        },
        "papermill": {
          "duration": 0.274774,
          "end_time": "2021-03-30T18:37:52.222633",
          "exception": false,
          "start_time": "2021-03-30T18:37:51.947859",
          "status": "completed"
        },
        "tags": [],
        "id": "gDEv21ZKNuGp",
        "outputId": "06bb883c-731c-4561-e669-62209de99546"
      },
      "outputs": [
        {
          "data": {
            "image/png": "[encoded data removed]",
            "text/plain": [
              "<Figure size 432x288 with 1 Axes>"
            ]
          },
          "metadata": {
            "needs_background": "light"
          },
          "output_type": "display_data"
        }
      ],
      "source": [
        "sns.residplot(golds[features].Sensex, y,color = 'black');\n",
        "plt.title('Residue plot of Sensex with Gold Price');"
      ]
    },
    {
      "cell_type": "code",
      "execution_count": null,
      "metadata": {
        "execution": {
          "iopub.execute_input": "2021-03-30T18:37:52.439996Z",
          "iopub.status.busy": "2021-03-30T18:37:52.438739Z",
          "iopub.status.idle": "2021-03-30T18:37:52.598272Z",
          "shell.execute_reply": "2021-03-30T18:37:52.598865Z"
        },
        "papermill": {
          "duration": 0.27079,
          "end_time": "2021-03-30T18:37:52.599007",
          "exception": false,
          "start_time": "2021-03-30T18:37:52.328217",
          "status": "completed"
        },
        "tags": [],
        "id": "sRtU8yL8NuGp",
        "outputId": "ea54f48c-a98b-48d9-f6ee-ae8ddbdcfb5b"
      },
      "outputs": [
        {
          "data": {
            "image/png": "[encoded data removed]",
            "text/plain": [
              "<Figure size 432x288 with 1 Axes>"
            ]
          },
          "metadata": {
            "needs_background": "light"
          },
          "output_type": "display_data"
        }
      ],
      "source": [
        "sns.residplot(golds[features].CPI, y,color = 'purple');\n",
        "plt.title('Residue plot of CPI with Gold Price');"
      ]
    },
    {
      "cell_type": "code",
      "execution_count": null,
      "metadata": {
        "execution": {
          "iopub.execute_input": "2021-03-30T18:37:52.816898Z",
          "iopub.status.busy": "2021-03-30T18:37:52.815886Z",
          "iopub.status.idle": "2021-03-30T18:37:52.970691Z",
          "shell.execute_reply": "2021-03-30T18:37:52.971380Z"
        },
        "papermill": {
          "duration": 0.265663,
          "end_time": "2021-03-30T18:37:52.971539",
          "exception": false,
          "start_time": "2021-03-30T18:37:52.705876",
          "status": "completed"
        },
        "tags": [],
        "id": "YrpGRPjfNuGp",
        "outputId": "993b7b73-9568-44e3-d2c8-f342045735b0"
      },
      "outputs": [
        {
          "data": {
            "image/png": "[encoded data removed]",
            "text/plain": [
              "<Figure size 432x288 with 1 Axes>"
            ]
          },
          "metadata": {
            "needs_background": "light"
          },
          "output_type": "display_data"
        }
      ],
      "source": [
        "sns.residplot(golds[features].USD_Index, y,color = 'brown');\n",
        "plt.title('Residue plot of USD_Index with Gold Price');"
      ]
    },
    {
      "cell_type": "code",
      "execution_count": null,
      "metadata": {
        "execution": {
          "iopub.execute_input": "2021-03-30T18:37:53.195102Z",
          "iopub.status.busy": "2021-03-30T18:37:53.194124Z",
          "iopub.status.idle": "2021-03-30T18:37:53.206872Z",
          "shell.execute_reply": "2021-03-30T18:37:53.207444Z"
        },
        "papermill": {
          "duration": 0.125027,
          "end_time": "2021-03-30T18:37:53.207587",
          "exception": false,
          "start_time": "2021-03-30T18:37:53.082560",
          "status": "completed"
        },
        "tags": [],
        "id": "vbHBpsp0NuGq"
      },
      "outputs": [],
      "source": [
        "vif = pd.DataFrame()\n",
        "vif[\"VIF Factor\"] = [variance_inflation_factor(x.values, i) for i in range(x.shape[1])]\n",
        "vif[\"features\"] = x.columns"
      ]
    },
    {
      "cell_type": "code",
      "execution_count": null,
      "metadata": {
        "execution": {
          "iopub.execute_input": "2021-03-30T18:37:53.428882Z",
          "iopub.status.busy": "2021-03-30T18:37:53.427853Z",
          "iopub.status.idle": "2021-03-30T18:37:53.439336Z",
          "shell.execute_reply": "2021-03-30T18:37:53.439891Z"
        },
        "papermill": {
          "duration": 0.123974,
          "end_time": "2021-03-30T18:37:53.440029",
          "exception": false,
          "start_time": "2021-03-30T18:37:53.316055",
          "status": "completed"
        },
        "tags": [],
        "id": "IFDlzvMKNuGq",
        "outputId": "8642278f-ac1b-4098-d93f-b704d5721d75"
      },
      "outputs": [
        {
          "data": {
            "text/html": [
              "<div>\n",
              "<style scoped>\n",
              "    .dataframe tbody tr th:only-of-type {\n",
              "        vertical-align: middle;\n",
              "    }\n",
              "\n",
              "    .dataframe tbody tr th {\n",
              "        vertical-align: top;\n",
              "    }\n",
              "\n",
              "    .dataframe thead th {\n",
              "        text-align: right;\n",
              "    }\n",
              "</style>\n",
              "<table border=\"1\" class=\"dataframe\">\n",
              "  <thead>\n",
              "    <tr style=\"text-align: right;\">\n",
              "      <th></th>\n",
              "      <th>VIF Factor</th>\n",
              "      <th>features</th>\n",
              "    </tr>\n",
              "  </thead>\n",
              "  <tbody>\n",
              "    <tr>\n",
              "      <th>0</th>\n",
              "      <td>19.2</td>\n",
              "      <td>Crude_Oil</td>\n",
              "    </tr>\n",
              "    <tr>\n",
              "      <th>1</th>\n",
              "      <td>69.5</td>\n",
              "      <td>Interest_Rate</td>\n",
              "    </tr>\n",
              "    <tr>\n",
              "      <th>2</th>\n",
              "      <td>716.4</td>\n",
              "      <td>USD_INR</td>\n",
              "    </tr>\n",
              "    <tr>\n",
              "      <th>3</th>\n",
              "      <td>77.9</td>\n",
              "      <td>Sensex</td>\n",
              "    </tr>\n",
              "    <tr>\n",
              "      <th>4</th>\n",
              "      <td>435.1</td>\n",
              "      <td>CPI</td>\n",
              "    </tr>\n",
              "    <tr>\n",
              "      <th>5</th>\n",
              "      <td>190.9</td>\n",
              "      <td>USD_Index</td>\n",
              "    </tr>\n",
              "  </tbody>\n",
              "</table>\n",
              "</div>"
            ],
            "text/plain": [
              "   VIF Factor       features\n",
              "0        19.2      Crude_Oil\n",
              "1        69.5  Interest_Rate\n",
              "2       716.4        USD_INR\n",
              "3        77.9         Sensex\n",
              "4       435.1            CPI\n",
              "5       190.9      USD_Index"
            ]
          },
          "execution_count": 65,
          "metadata": {},
          "output_type": "execute_result"
        }
      ],
      "source": [
        "vif.round(1)"
      ]
    },
    {
      "cell_type": "markdown",
      "metadata": {
        "papermill": {
          "duration": 0.108267,
          "end_time": "2021-03-30T18:37:53.656732",
          "exception": false,
          "start_time": "2021-03-30T18:37:53.548465",
          "status": "completed"
        },
        "tags": [],
        "id": "Zcm02CmGNuGq"
      },
      "source": [
        "***ARIMA Model***"
      ]
    },
    {
      "cell_type": "code",
      "execution_count": null,
      "metadata": {
        "execution": {
          "iopub.execute_input": "2021-03-30T18:37:53.885360Z",
          "iopub.status.busy": "2021-03-30T18:37:53.884204Z",
          "iopub.status.idle": "2021-03-30T18:37:53.886541Z",
          "shell.execute_reply": "2021-03-30T18:37:53.887150Z"
        },
        "papermill": {
          "duration": 0.11989,
          "end_time": "2021-03-30T18:37:53.887322",
          "exception": false,
          "start_time": "2021-03-30T18:37:53.767432",
          "status": "completed"
        },
        "tags": [],
        "id": "Mix4GsMXNuGq"
      },
      "outputs": [],
      "source": [
        "test = golds['Gold_Price'][200:]\n",
        "train = golds['Gold_Price'][:200]"
      ]
    },
    {
      "cell_type": "code",
      "execution_count": null,
      "metadata": {
        "execution": {
          "iopub.execute_input": "2021-03-30T18:37:54.116631Z",
          "iopub.status.busy": "2021-03-30T18:37:54.115485Z",
          "iopub.status.idle": "2021-03-30T18:37:54.280272Z",
          "shell.execute_reply": "2021-03-30T18:37:54.280828Z"
        },
        "papermill": {
          "duration": 0.280563,
          "end_time": "2021-03-30T18:37:54.280990",
          "exception": false,
          "start_time": "2021-03-30T18:37:54.000427",
          "status": "completed"
        },
        "tags": [],
        "id": "CYoSotBINuGq",
        "outputId": "01f04128-ed7f-4956-9b65-7750ea29ddb5"
      },
      "outputs": [
        {
          "data": {
            "image/png": "[encoded data removed]",
            "text/plain": [
              "<Figure size 432x288 with 1 Axes>"
            ]
          },
          "metadata": {
            "needs_background": "light"
          },
          "output_type": "display_data"
        }
      ],
      "source": [
        "train_log = np.log(train) \n",
        "test_log = np.log(test)\n",
        "moving_avg = train_log.rolling(24).mean() \n",
        "plt.plot(train_log) \n",
        "plt.plot(moving_avg, color = 'red') \n",
        "plt.show()"
      ]
    },
    {
      "cell_type": "code",
      "execution_count": null,
      "metadata": {
        "execution": {
          "iopub.execute_input": "2021-03-30T18:37:54.506194Z",
          "iopub.status.busy": "2021-03-30T18:37:54.505205Z",
          "iopub.status.idle": "2021-03-30T18:37:54.778014Z",
          "shell.execute_reply": "2021-03-30T18:37:54.778573Z"
        },
        "papermill": {
          "duration": 0.386851,
          "end_time": "2021-03-30T18:37:54.778729",
          "exception": false,
          "start_time": "2021-03-30T18:37:54.391878",
          "status": "completed"
        },
        "tags": [],
        "id": "f9LZN9ygNuGr",
        "outputId": "7a49ccaf-f8f7-4c89-97dd-aef42637a0c3"
      },
      "outputs": [
        {
          "name": "stdout",
          "output_type": "stream",
          "text": [
            "                             ARIMA Model Results                              \n",
            "==============================================================================\n",
            "Dep. Variable:          D2.Gold_Price   No. Observations:                  237\n",
            "Model:                 ARIMA(1, 2, 2)   Log Likelihood               -1896.686\n",
            "Method:                       css-mle   S.D. of innovations            721.000\n",
            "Date:                Tue, 30 Mar 2021   AIC                           3803.371\n",
            "Time:                        18:37:54   BIC                           3820.712\n",
            "Sample:                             2   HQIC                          3810.361\n",
            "                                                                              \n",
            "=======================================================================================\n",
            "                          coef    std err          z      P>|z|      [0.025      0.975]\n",
            "---------------------------------------------------------------------------------------\n",
            "const                   6.0136      5.430      1.107      0.268      -4.630      16.657\n",
            "ar.L1.D2.Gold_Price    -0.7082      0.162     -4.366      0.000      -1.026      -0.390\n",
            "ma.L1.D2.Gold_Price    -0.0895      0.141     -0.633      0.527      -0.367       0.188\n",
            "ma.L2.D2.Gold_Price    -0.7224      0.119     -6.074      0.000      -0.955      -0.489\n",
            "                                    Roots                                    \n",
            "=============================================================================\n",
            "                  Real          Imaginary           Modulus         Frequency\n",
            "-----------------------------------------------------------------------------\n",
            "AR.1           -1.4121           +0.0000j            1.4121            0.5000\n",
            "MA.1            1.1162           +0.0000j            1.1162            0.0000\n",
            "MA.2           -1.2401           +0.0000j            1.2401            0.5000\n",
            "-----------------------------------------------------------------------------\n"
          ]
        }
      ],
      "source": [
        "model_9 = ARIMA(golds['Gold_Price'], order=(1,2,2))\n",
        "model_9_fit = model_9.fit(disp=0)\n",
        "print(model_9_fit.summary())"
      ]
    },
    {
      "cell_type": "code",
      "execution_count": null,
      "metadata": {
        "execution": {
          "iopub.execute_input": "2021-03-30T18:37:55.021027Z",
          "iopub.status.busy": "2021-03-30T18:37:55.019890Z",
          "iopub.status.idle": "2021-03-30T18:37:55.336029Z",
          "shell.execute_reply": "2021-03-30T18:37:55.335344Z"
        },
        "papermill": {
          "duration": 0.446338,
          "end_time": "2021-03-30T18:37:55.336170",
          "exception": false,
          "start_time": "2021-03-30T18:37:54.889832",
          "status": "completed"
        },
        "tags": [],
        "id": "kbJSWo8hNuGr",
        "outputId": "d24c5e41-3a02-4473-c2d3-142257175ba9"
      },
      "outputs": [
        {
          "data": {
            "image/png": "[encoded data removed]",
            "text/plain": [
              "<Figure size 432x288 with 2 Axes>"
            ]
          },
          "metadata": {
            "needs_background": "light"
          },
          "output_type": "display_data"
        }
      ],
      "source": [
        "residuals = pd.DataFrame(model_9_fit.resid)\n",
        "fig, ax = plt.subplots(1,2)\n",
        "residuals.plot(title=\"Residuals\", ax=ax[0])\n",
        "residuals.plot(kind='kde', title='Density', ax=ax[1])\n",
        "plt.show()"
      ]
    },
    {
      "cell_type": "code",
      "execution_count": null,
      "metadata": {
        "execution": {
          "iopub.execute_input": "2021-03-30T18:37:55.575005Z",
          "iopub.status.busy": "2021-03-30T18:37:55.574332Z",
          "iopub.status.idle": "2021-03-30T18:37:55.724270Z",
          "shell.execute_reply": "2021-03-30T18:37:55.724817Z"
        },
        "papermill": {
          "duration": 0.273248,
          "end_time": "2021-03-30T18:37:55.724962",
          "exception": false,
          "start_time": "2021-03-30T18:37:55.451714",
          "status": "completed"
        },
        "tags": [],
        "id": "x32OeVkNNuGr"
      },
      "outputs": [],
      "source": [
        "model_best = ARIMA(train, order=(1,2,2))  \n",
        "fitted = model_best.fit(disp=-1)  "
      ]
    },
    {
      "cell_type": "code",
      "execution_count": null,
      "metadata": {
        "execution": {
          "iopub.execute_input": "2021-03-30T18:37:55.956245Z",
          "iopub.status.busy": "2021-03-30T18:37:55.955545Z",
          "iopub.status.idle": "2021-03-30T18:37:55.963651Z",
          "shell.execute_reply": "2021-03-30T18:37:55.963034Z"
        },
        "papermill": {
          "duration": 0.124604,
          "end_time": "2021-03-30T18:37:55.963778",
          "exception": false,
          "start_time": "2021-03-30T18:37:55.839174",
          "status": "completed"
        },
        "tags": [],
        "id": "NcfFYyQnNuGr"
      },
      "outputs": [],
      "source": [
        "fc, se, conf = fitted.forecast(39, alpha=0.05) "
      ]
    },
    {
      "cell_type": "code",
      "execution_count": null,
      "metadata": {
        "execution": {
          "iopub.execute_input": "2021-03-30T18:37:56.201639Z",
          "iopub.status.busy": "2021-03-30T18:37:56.200546Z",
          "iopub.status.idle": "2021-03-30T18:37:56.203672Z",
          "shell.execute_reply": "2021-03-30T18:37:56.203161Z"
        },
        "papermill": {
          "duration": 0.123313,
          "end_time": "2021-03-30T18:37:56.203788",
          "exception": false,
          "start_time": "2021-03-30T18:37:56.080475",
          "status": "completed"
        },
        "tags": [],
        "id": "IcboVgAjNuGr"
      },
      "outputs": [],
      "source": [
        "fc_series = pd.Series(fc, index=test.index)\n",
        "lower_series = pd.Series(conf[:, 0], index=test.index)\n",
        "upper_series = pd.Series(conf[:, 1], index=test.index)"
      ]
    },
    {
      "cell_type": "code",
      "execution_count": null,
      "metadata": {
        "execution": {
          "iopub.execute_input": "2021-03-30T18:37:56.449439Z",
          "iopub.status.busy": "2021-03-30T18:37:56.448441Z",
          "iopub.status.idle": "2021-03-30T18:37:56.654748Z",
          "shell.execute_reply": "2021-03-30T18:37:56.655309Z"
        },
        "papermill": {
          "duration": 0.339609,
          "end_time": "2021-03-30T18:37:56.655455",
          "exception": false,
          "start_time": "2021-03-30T18:37:56.315846",
          "status": "completed"
        },
        "tags": [],
        "id": "vnS1WHhsNuGr",
        "outputId": "106d4267-b6d5-4250-e573-553c07e61513"
      },
      "outputs": [
        {
          "data": {
            "image/png": "[encoded data removed]",
            "text/plain": [
              "<Figure size 1200x500 with 1 Axes>"
            ]
          },
          "metadata": {
            "needs_background": "light"
          },
          "output_type": "display_data"
        }
      ],
      "source": [
        "plt.figure(figsize=(12,5), dpi=100)\n",
        "plt.plot(train, label='training')\n",
        "plt.plot(test, label='actual')\n",
        "plt.plot(fc_series, label='forecast')\n",
        "plt.fill_between(lower_series.index, lower_series, upper_series, \n",
        "                 color='k', alpha=.15)\n",
        "plt.title('Forecast vs Actuals')\n",
        "plt.legend(loc='upper left', fontsize=8)\n",
        "plt.show()"
      ]
    },
    {
      "cell_type": "code",
      "execution_count": null,
      "metadata": {
        "execution": {
          "iopub.execute_input": "2021-03-30T18:37:56.895057Z",
          "iopub.status.busy": "2021-03-30T18:37:56.894365Z",
          "iopub.status.idle": "2021-03-30T18:37:56.901759Z",
          "shell.execute_reply": "2021-03-30T18:37:56.902247Z"
        },
        "papermill": {
          "duration": 0.13275,
          "end_time": "2021-03-30T18:37:56.902396",
          "exception": false,
          "start_time": "2021-03-30T18:37:56.769646",
          "status": "completed"
        },
        "tags": [],
        "id": "oV5twV8NNuGs",
        "outputId": "ca967741-9d2a-4b42-8f1d-f3634f89c095"
      },
      "outputs": [
        {
          "data": {
            "text/plain": [
              "{'mape': 0.08847119945764967,\n",
              " 'me': -3626.8800904586437,\n",
              " 'mse': 39868895.84719035,\n",
              " 'mae': 3742.8448648266913,\n",
              " 'mpe': -0.08448176299961527,\n",
              " 'rmse': 6314.182120210848,\n",
              " 'corr': 0.8889504076583272}"
            ]
          },
          "execution_count": 74,
          "metadata": {},
          "output_type": "execute_result"
        }
      ],
      "source": [
        "def forecast_accuracy(forecast, actual):\n",
        "    mape = np.mean(np.abs(forecast - actual)/np.abs(actual))  # MAPE\n",
        "    me = np.mean(forecast - actual)             # ME\n",
        "    mse = np.mean((forecast-actual)**2)\n",
        "    mae = np.mean(np.abs(forecast - actual))    # MAE\n",
        "    mpe = np.mean((forecast - actual)/actual)   # MPE\n",
        "    rmse = np.mean((forecast - actual)**2)**.5  # RMSE\n",
        "    corr = np.corrcoef(forecast, actual)[0,1]# corr\n",
        "            \n",
        "    return({'mape':mape, 'me':me, 'mse':mse,'mae': mae, \n",
        "            'mpe': mpe, 'rmse':rmse, \n",
        "            'corr':corr})\n",
        "\n",
        "forecast_accuracy(fc, test.values)"
      ]
    },
    {
      "cell_type": "markdown",
      "metadata": {
        "papermill": {
          "duration": 0.114919,
          "end_time": "2021-03-30T18:37:57.131630",
          "exception": false,
          "start_time": "2021-03-30T18:37:57.016711",
          "status": "completed"
        },
        "tags": [],
        "id": "-b7E8IBoNuGs"
      },
      "source": [
        "### MAPE=8.8%, it implies that the Model is 91.8% accurate."
      ]
    },
    {
      "cell_type": "markdown",
      "metadata": {
        "papermill": {
          "duration": 0.114415,
          "end_time": "2021-03-30T18:37:57.361725",
          "exception": false,
          "start_time": "2021-03-30T18:37:57.247310",
          "status": "completed"
        },
        "tags": [],
        "id": "QsEpTV-cNuGs"
      },
      "source": [
        "***Future Forecasts***"
      ]
    },
    {
      "cell_type": "code",
      "execution_count": null,
      "metadata": {
        "execution": {
          "iopub.execute_input": "2021-03-30T18:37:57.595892Z",
          "iopub.status.busy": "2021-03-30T18:37:57.595196Z",
          "iopub.status.idle": "2021-03-30T18:38:03.268211Z",
          "shell.execute_reply": "2021-03-30T18:38:03.269710Z"
        },
        "papermill": {
          "duration": 5.79327,
          "end_time": "2021-03-30T18:38:03.269959",
          "exception": false,
          "start_time": "2021-03-30T18:37:57.476689",
          "status": "completed"
        },
        "tags": [],
        "id": "g_dh0j6DNuGs",
        "outputId": "4e2d8133-77d3-4642-a783-b9b88e8e6059"
      },
      "outputs": [
        {
          "name": "stdout",
          "output_type": "stream",
          "text": [
            "Performing stepwise search to minimize aic\n",
            " ARIMA(1,2,1)(0,0,0)[0] intercept   : AIC=3805.279, Time=0.31 sec\n",
            " ARIMA(0,2,0)(0,0,0)[0] intercept   : AIC=3915.780, Time=0.02 sec\n",
            " ARIMA(1,2,0)(0,0,0)[0] intercept   : AIC=3871.797, Time=0.04 sec\n",
            " ARIMA(0,2,1)(0,0,0)[0] intercept   : AIC=3805.572, Time=0.16 sec\n",
            " ARIMA(0,2,0)(0,0,0)[0]             : AIC=3913.835, Time=0.01 sec\n",
            " ARIMA(2,2,1)(0,0,0)[0] intercept   : AIC=3806.561, Time=0.39 sec\n",
            " ARIMA(1,2,2)(0,0,0)[0] intercept   : AIC=3804.850, Time=0.48 sec\n",
            " ARIMA(0,2,2)(0,0,0)[0] intercept   : AIC=3804.983, Time=0.30 sec\n",
            " ARIMA(2,2,2)(0,0,0)[0] intercept   : AIC=3806.769, Time=0.49 sec\n",
            " ARIMA(1,2,3)(0,0,0)[0] intercept   : AIC=3806.773, Time=0.54 sec\n",
            " ARIMA(0,2,3)(0,0,0)[0] intercept   : AIC=3806.301, Time=0.39 sec\n",
            " ARIMA(2,2,3)(0,0,0)[0] intercept   : AIC=inf, Time=0.68 sec\n",
            " ARIMA(1,2,2)(0,0,0)[0]             : AIC=3803.797, Time=0.19 sec\n",
            " ARIMA(0,2,2)(0,0,0)[0]             : AIC=3803.940, Time=0.13 sec\n",
            " ARIMA(1,2,1)(0,0,0)[0]             : AIC=3804.234, Time=0.11 sec\n",
            " ARIMA(2,2,2)(0,0,0)[0]             : AIC=3805.723, Time=0.27 sec\n",
            " ARIMA(1,2,3)(0,0,0)[0]             : AIC=3805.725, Time=0.29 sec\n",
            " ARIMA(0,2,1)(0,0,0)[0]             : AIC=3804.480, Time=0.06 sec\n",
            " ARIMA(0,2,3)(0,0,0)[0]             : AIC=3805.246, Time=0.14 sec\n",
            " ARIMA(2,2,1)(0,0,0)[0]             : AIC=3805.507, Time=0.16 sec\n",
            " ARIMA(2,2,3)(0,0,0)[0]             : AIC=3807.411, Time=0.45 sec\n",
            "\n",
            "Best model:  ARIMA(1,2,2)(0,0,0)[0]          \n",
            "Total fit time: 5.650 seconds\n",
            "                               SARIMAX Results                                \n",
            "==============================================================================\n",
            "Dep. Variable:                      y   No. Observations:                  239\n",
            "Model:               SARIMAX(1, 2, 2)   Log Likelihood               -1897.899\n",
            "Date:                Tue, 30 Mar 2021   AIC                           3803.797\n",
            "Time:                        18:38:03   BIC                           3817.669\n",
            "Sample:                             0   HQIC                          3809.389\n",
            "                                - 239                                         \n",
            "Covariance Type:                  opg                                         \n",
            "==============================================================================\n",
            "                 coef    std err          z      P>|z|      [0.025      0.975]\n",
            "------------------------------------------------------------------------------\n",
            "ar.L1         -0.6987      0.203     -3.443      0.001      -1.096      -0.301\n",
            "ma.L1         -0.0896      0.181     -0.496      0.620      -0.444       0.265\n",
            "ma.L2         -0.7117      0.136     -5.243      0.000      -0.978      -0.446\n",
            "sigma2      5.228e+05   2.81e+04     18.611      0.000    4.68e+05    5.78e+05\n",
            "===================================================================================\n",
            "Ljung-Box (Q):                       46.18   Jarque-Bera (JB):               160.65\n",
            "Prob(Q):                              0.23   Prob(JB):                         0.00\n",
            "Heteroskedasticity (H):               8.87   Skew:                             0.85\n",
            "Prob(H) (two-sided):                  0.00   Kurtosis:                         6.66\n",
            "===================================================================================\n",
            "\n",
            "Warnings:\n",
            "[1] Covariance matrix calculated using the outer product of gradients (complex-step).\n"
          ]
        }
      ],
      "source": [
        "model = pm.auto_arima(golds.Gold_Price, start_p=1, start_q=1,\n",
        "                      test='adf',       # use adftest to find optimal 'd'\n",
        "                      max_p=3, max_q=3, # maximum p and q\n",
        "                      m=1,              # frequency of series\n",
        "                      d=None,           # let model determine 'd'\n",
        "                      seasonal=False,   # No Seasonality\n",
        "                      start_P=0, \n",
        "                      D=0, \n",
        "                      trace=True,\n",
        "                      error_action='ignore',  \n",
        "                      suppress_warnings=True, \n",
        "                      stepwise=True)\n",
        "\n",
        "print(model.summary())"
      ]
    },
    {
      "cell_type": "code",
      "execution_count": null,
      "metadata": {
        "execution": {
          "iopub.execute_input": "2021-03-30T18:38:03.519836Z",
          "iopub.status.busy": "2021-03-30T18:38:03.519109Z",
          "iopub.status.idle": "2021-03-30T18:38:03.524282Z",
          "shell.execute_reply": "2021-03-30T18:38:03.524789Z"
        },
        "papermill": {
          "duration": 0.133437,
          "end_time": "2021-03-30T18:38:03.524949",
          "exception": false,
          "start_time": "2021-03-30T18:38:03.391512",
          "status": "completed"
        },
        "tags": [],
        "id": "IN8m35CDNuGs"
      },
      "outputs": [],
      "source": [
        "n_periods = 10\n",
        "fc, confint = model.predict(n_periods=n_periods, return_conf_int=True)\n",
        "index_of_fc = np.arange(len(golds.Gold_Price), len(golds.Gold_Price)+n_periods)"
      ]
    },
    {
      "cell_type": "code",
      "execution_count": null,
      "metadata": {
        "execution": {
          "iopub.execute_input": "2021-03-30T18:38:03.772721Z",
          "iopub.status.busy": "2021-03-30T18:38:03.771965Z",
          "iopub.status.idle": "2021-03-30T18:38:03.777732Z",
          "shell.execute_reply": "2021-03-30T18:38:03.778249Z"
        },
        "papermill": {
          "duration": 0.132544,
          "end_time": "2021-03-30T18:38:03.778406",
          "exception": false,
          "start_time": "2021-03-30T18:38:03.645862",
          "status": "completed"
        },
        "tags": [],
        "id": "rFodhrIRNuGt"
      },
      "outputs": [],
      "source": [
        "fc_series = pd.Series(fc, index=index_of_fc)\n",
        "lower_series = pd.Series(confint[:, 0], index=index_of_fc)\n",
        "upper_series = pd.Series(confint[:, 1], index=index_of_fc)"
      ]
    },
    {
      "cell_type": "code",
      "execution_count": null,
      "metadata": {
        "execution": {
          "iopub.execute_input": "2021-03-30T18:38:04.031661Z",
          "iopub.status.busy": "2021-03-30T18:38:04.030891Z",
          "iopub.status.idle": "2021-03-30T18:38:04.219001Z",
          "shell.execute_reply": "2021-03-30T18:38:04.219574Z"
        },
        "papermill": {
          "duration": 0.315223,
          "end_time": "2021-03-30T18:38:04.219736",
          "exception": false,
          "start_time": "2021-03-30T18:38:03.904513",
          "status": "completed"
        },
        "tags": [],
        "id": "SbucBuVlNuGt",
        "outputId": "a90a64a5-416a-47a2-f433-1bf4dffc8c94"
      },
      "outputs": [
        {
          "data": {
            "image/png": "[encoded data removed]",
            "text/plain": [
              "<Figure size 1200x500 with 1 Axes>"
            ]
          },
          "metadata": {
            "needs_background": "light"
          },
          "output_type": "display_data"
        }
      ],
      "source": [
        "plt.figure(figsize=(12,5), dpi=100)\n",
        "plt.plot(golds.Gold_Price)\n",
        "plt.plot(fc_series, color='Green')\n",
        "plt.fill_between(lower_series.index, \n",
        "                 lower_series, \n",
        "                 upper_series, \n",
        "                 color='k', alpha=.15)\n",
        "\n",
        "plt.title(\"Forecast for 10 months ahead\")\n",
        "plt.show()"
      ]
    },
    {
      "cell_type": "markdown",
      "metadata": {
        "papermill": {
          "duration": 0.122782,
          "end_time": "2021-03-30T18:38:04.467059",
          "exception": false,
          "start_time": "2021-03-30T18:38:04.344277",
          "status": "completed"
        },
        "tags": [],
        "id": "ckfrnTJSNuGt"
      },
      "source": [
        "Conclusion:\n",
        "\n",
        "1. Gold Model iteration 5 (GoldModel5) having the varibles -Crude Oil, Interest Rate,Sensex, USD-INR, CPI, best describe the regression model to predict the Forecast,\n",
        "\n",
        "2. The Model gives 91.2% accurate forecast with ARIMA"
      ]
    },
    {
      "cell_type": "code",
      "execution_count": null,
      "metadata": {
        "papermill": {
          "duration": 0.122178,
          "end_time": "2021-03-30T18:38:04.711822",
          "exception": false,
          "start_time": "2021-03-30T18:38:04.589644",
          "status": "completed"
        },
        "tags": [],
        "id": "BcjddkUsNuGt"
      },
      "outputs": [],
      "source": []
    }
  ],
  "metadata": {
    "kernelspec": {
      "display_name": "Python 3",
      "language": "python",
      "name": "python3"
    },
    "language_info": {
      "codemirror_mode": {
        "name": "ipython",
        "version": 3
      },
      "file_extension": ".py",
      "mimetype": "text/x-python",
      "name": "python",
      "nbconvert_exporter": "python",
      "pygments_lexer": "ipython3",
      "version": "3.7.6"
    },
    "papermill": {
      "duration": 83.231135,
      "end_time": "2021-03-30T18:38:04.942395",
      "environment_variables": {},
      "exception": null,
      "input_path": "__notebook__.ipynb",
      "output_path": "__notebook__.ipynb",
      "parameters": {},
      "start_time": "2021-03-30T18:36:41.711260",
      "version": "2.1.0"
    },
    "colab": {
      "provenance": []
    }
  },
  "nbformat": 4,
  "nbformat_minor": 0
}